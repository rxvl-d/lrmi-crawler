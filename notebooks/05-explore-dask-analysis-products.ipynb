{
 "cells": [
  {
   "cell_type": "code",
   "execution_count": 2,
   "id": "2de59aa1",
   "metadata": {},
   "outputs": [],
   "source": [
    "import pandas as pd\n",
    "from tqdm import tqdm\n",
    "import os\n",
    "import openai\n",
    "from glob import glob\n",
    "import pickle"
   ]
  },
  {
   "cell_type": "code",
   "execution_count": 3,
   "id": "91e6afa6",
   "metadata": {},
   "outputs": [],
   "source": [
    "cous = pd.read_pickle('../data/processed/counts_of_unique_subjects.pickle')"
   ]
  },
  {
   "cell_type": "code",
   "execution_count": 4,
   "id": "61cefa54",
   "metadata": {},
   "outputs": [
    {
     "data": {
      "text/plain": [
       "pld\n",
       "www.coursera.org               7520.0\n",
       "www.edx.org                    7407.0\n",
       "studylib.net                   5646.0\n",
       "www.diziler.com                4683.0\n",
       "www.physicsforums.com          4677.0\n",
       "ja.coursera.org                3851.0\n",
       "ru.coursera.org                3784.0\n",
       "pt.coursera.org                3601.0\n",
       "fr.coursera.org                3375.0\n",
       "zh.coursera.org                3353.0\n",
       "es.coursera.org                3336.0\n",
       "de.coursera.org                3162.0\n",
       "ko.coursera.org                3053.0\n",
       "codegalaxy.io                  3026.0\n",
       "zh-tw.coursera.org             3023.0\n",
       "www.goconqr.com                2471.0\n",
       "www.lynda.com                  2017.0\n",
       "www.verboeducacional.com.br    1526.0\n",
       "www.taskutark.ee               1143.0\n",
       "drops.dagstuhl.de              1135.0\n",
       "www.haberankara.com            1113.0\n",
       "www.lumoslearning.com          1013.0\n",
       "mille-sorties.com               895.0\n",
       "quiwego.com                     848.0\n",
       "redooc.com                      832.0\n",
       "studylibpl.com                  744.0\n",
       "www.habermarmara.com.tr         718.0\n",
       "www.gettasting.com              699.0\n",
       "ru.codegalaxy.io                646.0\n",
       "studylib.ru                     624.0\n",
       "dtype: float64"
      ]
     },
     "execution_count": 4,
     "metadata": {},
     "output_type": "execute_result"
    }
   ],
   "source": [
    "cous.sum(axis=1).sort_values(ascending=False).iloc[:30]"
   ]
  },
  {
   "cell_type": "code",
   "execution_count": 15,
   "id": "0d8e5baa",
   "metadata": {},
   "outputs": [],
   "source": [
    "from glob import glob\n",
    "\n",
    "top_ed_domain_data_files = glob('../data/processed/pld_data/*.csv')"
   ]
  },
  {
   "cell_type": "code",
   "execution_count": 16,
   "id": "44b4cf0b",
   "metadata": {},
   "outputs": [],
   "source": [
    "top_ed_data = [(f, pd.read_csv(f, index_col=0)) for f in top_ed_domain_data_files]"
   ]
  },
  {
   "cell_type": "code",
   "execution_count": 18,
   "id": "64887411",
   "metadata": {},
   "outputs": [],
   "source": [
    "def get_name_year(path):\n",
    "    filename = path.split('/')[-1]\n",
    "    name = filename.replace('.csv', '')\n",
    "    pld, year = re.findall('([a-z_]+)_([0-9]+)', name)[0]\n",
    "    year = int(year)\n",
    "    pld = pld.replace('_', '.')\n",
    "    return pld, year\n",
    "\n",
    "# [(get_name_year(f), df.shape[0]) for (f, df) in top_ed_data]"
   ]
  },
  {
   "cell_type": "code",
   "execution_count": 19,
   "id": "6d1eeacd",
   "metadata": {},
   "outputs": [],
   "source": [
    "def summary_stats(filepath, df):\n",
    "    pld, year = get_name_year(filepath)\n",
    "    s_count = df.s.nunique()\n",
    "    p_count = df.p.nunique()\n",
    "    ps_per_s_count = df.groupby('s').p.nunique().mean()\n",
    "    return pd.Series({\n",
    "        'pld': pld,\n",
    "        'year': year,\n",
    "        'ps_per_s_count': ps_per_s_count,\n",
    "        's_count': s_count,\n",
    "        'p_count': p_count\n",
    "    })\n",
    "\n",
    "# pd.DataFrame([summary_stats(f, df) for (f, df) in top_ed_data]).groupby('pld').s_count.apply(list)"
   ]
  },
  {
   "cell_type": "code",
   "execution_count": 25,
   "id": "c796d2bf",
   "metadata": {},
   "outputs": [
    {
     "name": "stderr",
     "output_type": "stream",
     "text": [
      "100%|█████████████████████████████████| 33/33 [01:25<00:00,  2.60s/it]\n"
     ]
    }
   ],
   "source": [
    "def get_title_desc(df):\n",
    "    o_str_exists = (df.o.notna()) & (df.o.str.strip().str.len() > 0)\n",
    "    descriptions = df[(df.p.str.contains('description')) & o_str_exists].o\n",
    "    title = df[df.p.str.contains('name') & o_str_exists].o\n",
    "    if (descriptions.shape[0] > 0) and (title.shape[0] > 0):\n",
    "        return pd.Series({'desc': descriptions.iloc[0],\n",
    "                          'title': title.iloc[0],\n",
    "                          'url': df.s.iloc[0]})\n",
    "    else:\n",
    "        return pd.Series({'desc': None, 'title': None, 'url': df.s.iloc[0]})\n",
    "\n",
    "\n",
    "def prompt_template(title, description):\n",
    "    return f\"\"\"The following text is the title and description of a course. Give me a list of learning objectives of the course, the subject the course belogs to and what level of student it is appropriate for.\n",
    "\n",
    "    Text: \\\"\\\"\\\"Title: {title} Description: {description}\\\"\\\"\\\"\n",
    "\n",
    "    Learning objectives, subject and student level:\"\"\"\n",
    "    \n",
    "prompts = []\n",
    "for ed_data in tqdm(top_ed_data):\n",
    "    domain, year = get_name_year(ed_data[0])\n",
    "    if ed_data[1].shape[0] > 0:\n",
    "        title_descs = ed_data[1].groupby('s').apply(get_title_desc)\n",
    "        for _, row in title_descs.iterrows():\n",
    "            prompts.append({'domain': domain, 'year': year, 'title' : row.title, \n",
    "                            'desc': row.desc, 'url': row.url, \n",
    "                            'prompt': prompt_template(row.title, row.desc)})\n",
    "    \n",
    "prompts = pd.DataFrame(prompts).drop_duplicates(subset=['prompt'])\n",
    "prompts = prompts[prompts.desc.notna() & prompts.title.notna()]\n",
    "from hashlib import md5\n",
    "prompts['hashed_prompt'] = prompts.prompt.apply(lambda p: str(md5(p.encode('utf-8')).hexdigest()))"
   ]
  },
  {
   "cell_type": "code",
   "execution_count": 28,
   "id": "20ad86b3",
   "metadata": {},
   "outputs": [
    {
     "data": {
      "text/plain": [
       "((9722, 6), (29460, 7))"
      ]
     },
     "execution_count": 28,
     "metadata": {},
     "output_type": "execute_result"
    }
   ],
   "source": [
    "sample_prompts.shape, prompts.shape"
   ]
  },
  {
   "cell_type": "code",
   "execution_count": 37,
   "id": "c5ca56a2",
   "metadata": {},
   "outputs": [],
   "source": [
    "sample_prompts = sample_prompts.join(prompts[['hashed_prompt', 'url']].set_index('hashed_prompt'), \n",
    "                                     on='hashed_prompt')"
   ]
  },
  {
   "cell_type": "code",
   "execution_count": null,
   "id": "dfe5e18d",
   "metadata": {},
   "outputs": [],
   "source": [
    "sample_prompts = prompts.groupby('domain').sample(frac=0.33)"
   ]
  },
  {
   "cell_type": "code",
   "execution_count": null,
   "id": "023647d1",
   "metadata": {},
   "outputs": [],
   "source": [
    "sample_prompts.head(2)"
   ]
  },
  {
   "cell_type": "code",
   "execution_count": null,
   "id": "ccbf551c",
   "metadata": {},
   "outputs": [],
   "source": [
    "# !mkdir ../data/gpt_results"
   ]
  },
  {
   "cell_type": "code",
   "execution_count": null,
   "id": "a0f88cb5",
   "metadata": {},
   "outputs": [],
   "source": [
    "gpt_model='text-davinci-003'"
   ]
  },
  {
   "cell_type": "code",
   "execution_count": null,
   "id": "06cff7be",
   "metadata": {},
   "outputs": [],
   "source": [
    "gpt_temperature=0.1"
   ]
  },
  {
   "cell_type": "code",
   "execution_count": null,
   "id": "2959fbd5",
   "metadata": {},
   "outputs": [],
   "source": [
    "gpt_max_length = 256"
   ]
  },
  {
   "cell_type": "code",
   "execution_count": 39,
   "id": "f33d3fd2",
   "metadata": {},
   "outputs": [],
   "source": [
    "# sample_prompts.to_pickle('../data/sample_prompts.pickle')"
   ]
  },
  {
   "cell_type": "code",
   "execution_count": 40,
   "id": "82bcecab",
   "metadata": {},
   "outputs": [],
   "source": [
    "sample_prompts = pd.read_pickle('../data/sample_prompts.pickle')"
   ]
  },
  {
   "cell_type": "code",
   "execution_count": null,
   "id": "6676f318",
   "metadata": {
    "scrolled": true
   },
   "outputs": [],
   "source": [
    "def save_completion_to_file_if_not_exists(filename, prompt):\n",
    "    if not os.path.exists(filename):\n",
    "        completion = generate_text(prompt)\n",
    "        with open(filename, 'w') as f:\n",
    "            if completion is not None:\n",
    "                f.write(completion)\n",
    "            else:\n",
    "                f.write(\"NO_COMPLETION\")\n",
    "            print(f\"File '{filename}' created and contents saved successfully.\")\n",
    "    else:\n",
    "        print(f\"File '{filename}' already exists. Contents not saved.\")\n",
    "        \n",
    "openai.api_key = os.environ[\"OPENAI_API_KEY\"]  # Set your API key as an environment variable\n",
    "\n",
    "def generate_text(prompt, model=gpt_model, temperature=gpt_temperature, max_tokens=gpt_max_length):\n",
    "    try:\n",
    "        response = openai.Completion.create(\n",
    "            engine=model,\n",
    "            prompt=prompt,\n",
    "            max_tokens=max_tokens,\n",
    "            temperature=temperature\n",
    "        )\n",
    "\n",
    "        if response.choices:\n",
    "            return response.choices[0].text.strip()\n",
    "        else:\n",
    "            return \"NO_COMPLETION\"\n",
    "\n",
    "    except openai.error.InvalidRequestError as e:\n",
    "        print(f\"Invalid request error: {e}\")\n",
    "        return \"ERROR: InvalidRequest\"\n",
    "\n",
    "    except openai.error.AuthenticationError as e:\n",
    "        print(f\"Authentication error: {e}\")\n",
    "        return \"ERROR: Authentication\"\n",
    "\n",
    "    except openai.error.APIConnectionError as e:\n",
    "        print(f\"API connection error: {e}\")\n",
    "        return \"ERROR: APIConneection\"\n",
    "\n",
    "    except openai.error.OpenAIError as e:\n",
    "        print(f\"OpenAI error: {e}\")\n",
    "        return \"ERROR: OpenAI\"\n",
    "\n",
    "\n",
    "# sample_prompts.shape\n",
    "running_set = sample_prompts\n",
    "# running_set = sample_prompts[sample_prompts.hashed_prompt.isin(completed)]\n",
    "for _, prompt in tqdm(running_set.iterrows(), total=running_set.shape[0]):\n",
    "    save_completion_to_file_if_not_exists(f'../data/gpt_results/{prompt.hashed_prompt}.completion_temp_01', \n",
    "                               prompt.prompt)"
   ]
  },
  {
   "cell_type": "code",
   "execution_count": 3,
   "id": "727b7aca",
   "metadata": {},
   "outputs": [],
   "source": [
    "completed_07 = glob('../data/gpt_results/*.completion_temp_07')\n",
    "completed_07 = [c.split('/')[-1].split('.')[0] for c in completed_07]"
   ]
  },
  {
   "cell_type": "code",
   "execution_count": 4,
   "id": "f3436c50",
   "metadata": {},
   "outputs": [],
   "source": [
    "completed_01 = glob('../data/gpt_results/*.completion_temp_01')\n",
    "completed_01 = [c.split('/')[-1].split('.')[0] for c in completed_01]"
   ]
  },
  {
   "cell_type": "code",
   "execution_count": 5,
   "id": "df5ddd93",
   "metadata": {},
   "outputs": [
    {
     "data": {
      "text/plain": [
       "(32, 9722)"
      ]
     },
     "execution_count": 5,
     "metadata": {},
     "output_type": "execute_result"
    }
   ],
   "source": [
    "len(completed_07), len(completed_01)"
   ]
  },
  {
   "cell_type": "code",
   "execution_count": 6,
   "id": "a3fd7de3",
   "metadata": {},
   "outputs": [],
   "source": [
    "import re\n",
    "\n",
    "overall_pattern_1 = re.compile('^Learning [Oo]bjectives:(.*)Subject: (.*)Student [Ll]evel: (.*)', flags=re.DOTALL)\n",
    "overall_pattern_2 = re.compile('^(1\\..*)Subject: (.*)Student [Ll]evel: (.*)', flags=re.DOTALL)\n",
    "split_los_pattern = re.compile('[0-9]+\\.', re.DOTALL)\n",
    "\n",
    "def parse_completion(c):\n",
    "    segments = overall_pattern_1.findall(c)\n",
    "    if len(segments) == 0:\n",
    "        segments = overall_pattern_2.findall(c)\n",
    "    if len(segments) > 0:\n",
    "        learning_objectives = [lo.strip() \n",
    "                               for lo \n",
    "                               in re.split(split_los_pattern, segments[0][0].strip()) \n",
    "                               if lo.strip()]\n",
    "        subject = segments[0][1].strip()\n",
    "        level = segments[0][2].strip()\n",
    "        return learning_objectives, subject, level\n",
    "    else:\n",
    "        return None\n",
    "        "
   ]
  },
  {
   "cell_type": "code",
   "execution_count": null,
   "id": "57b76afe",
   "metadata": {},
   "outputs": [],
   "source": [
    "with open('../data/gpt_results/e361269fedf9f45642da1b0497fcb098.completion_temp_07') as f:\n",
    "    completion = f.read()\n",
    "print(completion)\n",
    "parse_completion(completion)"
   ]
  },
  {
   "cell_type": "code",
   "execution_count": 14,
   "id": "05e3cdea",
   "metadata": {},
   "outputs": [
    {
     "data": {
      "text/html": [
       "<div>\n",
       "<style scoped>\n",
       "    .dataframe tbody tr th:only-of-type {\n",
       "        vertical-align: middle;\n",
       "    }\n",
       "\n",
       "    .dataframe tbody tr th {\n",
       "        vertical-align: top;\n",
       "    }\n",
       "\n",
       "    .dataframe thead th {\n",
       "        text-align: right;\n",
       "    }\n",
       "</style>\n",
       "<table border=\"1\" class=\"dataframe\">\n",
       "  <thead>\n",
       "    <tr style=\"text-align: right;\">\n",
       "      <th></th>\n",
       "      <th>domain</th>\n",
       "      <th>year</th>\n",
       "      <th>title</th>\n",
       "      <th>desc</th>\n",
       "      <th>prompt</th>\n",
       "      <th>hashed_prompt</th>\n",
       "    </tr>\n",
       "  </thead>\n",
       "  <tbody>\n",
       "    <tr>\n",
       "      <th>13455</th>\n",
       "      <td>es.coursera.org</td>\n",
       "      <td>2021</td>\n",
       "      <td>Business English: Final Project</td>\n",
       "      <td>Ofrecido por Universidad del Estado de Arizona...</td>\n",
       "      <td>The following text is the title and descriptio...</td>\n",
       "      <td>5027a9f6729e9e622232ad2c5743f5c0</td>\n",
       "    </tr>\n",
       "    <tr>\n",
       "      <th>14032</th>\n",
       "      <td>es.coursera.org</td>\n",
       "      <td>2021</td>\n",
       "      <td>Managing Security in Google Cloud</td>\n",
       "      <td>Ofrecido por Google Cloud. This self-paced tra...</td>\n",
       "      <td>The following text is the title and descriptio...</td>\n",
       "      <td>2d7f967dff41b3da101f10f9535fa28f</td>\n",
       "    </tr>\n",
       "    <tr>\n",
       "      <th>14614</th>\n",
       "      <td>es.coursera.org</td>\n",
       "      <td>2021</td>\n",
       "      <td>Evolution: A Course for Educators</td>\n",
       "      <td>Ofrecido por Museo Americano de Historia Natur...</td>\n",
       "      <td>The following text is the title and descriptio...</td>\n",
       "      <td>c02bedb7edff8dae4165cfac665dae09</td>\n",
       "    </tr>\n",
       "    <tr>\n",
       "      <th>13487</th>\n",
       "      <td>es.coursera.org</td>\n",
       "      <td>2021</td>\n",
       "      <td>Estrategia Empresarial</td>\n",
       "      <td>Ofrecido por Universidad Austral. El curso te ...</td>\n",
       "      <td>The following text is the title and descriptio...</td>\n",
       "      <td>a325ec8c6b45967bcf4e316a536f2c39</td>\n",
       "    </tr>\n",
       "    <tr>\n",
       "      <th>14715</th>\n",
       "      <td>es.coursera.org</td>\n",
       "      <td>2021</td>\n",
       "      <td>Valuation for Startups Using Multiple Approach</td>\n",
       "      <td>Ofrecido por Universidad Yonsei. In addition t...</td>\n",
       "      <td>The following text is the title and descriptio...</td>\n",
       "      <td>00fa8b30906b0453948e3e44bfccd7bd</td>\n",
       "    </tr>\n",
       "    <tr>\n",
       "      <th>...</th>\n",
       "      <td>...</td>\n",
       "      <td>...</td>\n",
       "      <td>...</td>\n",
       "      <td>...</td>\n",
       "      <td>...</td>\n",
       "      <td>...</td>\n",
       "    </tr>\n",
       "    <tr>\n",
       "      <th>17900</th>\n",
       "      <td>zh.coursera.org</td>\n",
       "      <td>2021</td>\n",
       "      <td>Core Concepts of Accounting – Numbers and People</td>\n",
       "      <td>Whenever the word “accounting” is pronounced, ...</td>\n",
       "      <td>The following text is the title and descriptio...</td>\n",
       "      <td>80559913dd52690e7183f1dfafbd6eab</td>\n",
       "    </tr>\n",
       "    <tr>\n",
       "      <th>18738</th>\n",
       "      <td>zh.coursera.org</td>\n",
       "      <td>2021</td>\n",
       "      <td>Practical Reinforcement Learning</td>\n",
       "      <td>由 俄罗斯国家研究型高等经济大学 提供。Welcome to the Reinforceme...</td>\n",
       "      <td>The following text is the title and descriptio...</td>\n",
       "      <td>e2bd67425a20478ec24d74da6476b6cb</td>\n",
       "    </tr>\n",
       "    <tr>\n",
       "      <th>18578</th>\n",
       "      <td>zh.coursera.org</td>\n",
       "      <td>2021</td>\n",
       "      <td>Machine Learning: Classification</td>\n",
       "      <td>由 华盛顿大学 提供。Case Studies: Analyzing Sentiment &amp;...</td>\n",
       "      <td>The following text is the title and descriptio...</td>\n",
       "      <td>e7e9fd03c39c88c788aac3eaf0e705e7</td>\n",
       "    </tr>\n",
       "    <tr>\n",
       "      <th>49563</th>\n",
       "      <td>zh.coursera.org</td>\n",
       "      <td>2020</td>\n",
       "      <td>Mastering Data Analysis in Excel</td>\n",
       "      <td>In business, data and algorithms create econom...</td>\n",
       "      <td>The following text is the title and descriptio...</td>\n",
       "      <td>1cb975d4697375fc6e07e35aaab1a685</td>\n",
       "    </tr>\n",
       "    <tr>\n",
       "      <th>50486</th>\n",
       "      <td>zh.coursera.org</td>\n",
       "      <td>2020</td>\n",
       "      <td>管理财富：MBA课程给大学生的启示</td>\n",
       "      <td>This course will use as its foundation the pri...</td>\n",
       "      <td>The following text is the title and descriptio...</td>\n",
       "      <td>1b6109f0fda8bbc43dbe9d22c26519f4</td>\n",
       "    </tr>\n",
       "  </tbody>\n",
       "</table>\n",
       "<p>9722 rows × 6 columns</p>\n",
       "</div>"
      ],
      "text/plain": [
       "                domain  year  \\\n",
       "13455  es.coursera.org  2021   \n",
       "14032  es.coursera.org  2021   \n",
       "14614  es.coursera.org  2021   \n",
       "13487  es.coursera.org  2021   \n",
       "14715  es.coursera.org  2021   \n",
       "...                ...   ...   \n",
       "17900  zh.coursera.org  2021   \n",
       "18738  zh.coursera.org  2021   \n",
       "18578  zh.coursera.org  2021   \n",
       "49563  zh.coursera.org  2020   \n",
       "50486  zh.coursera.org  2020   \n",
       "\n",
       "                                                  title  \\\n",
       "13455                   Business English: Final Project   \n",
       "14032                 Managing Security in Google Cloud   \n",
       "14614                 Evolution: A Course for Educators   \n",
       "13487                            Estrategia Empresarial   \n",
       "14715    Valuation for Startups Using Multiple Approach   \n",
       "...                                                 ...   \n",
       "17900  Core Concepts of Accounting – Numbers and People   \n",
       "18738                  Practical Reinforcement Learning   \n",
       "18578                  Machine Learning: Classification   \n",
       "49563                  Mastering Data Analysis in Excel   \n",
       "50486                                 管理财富：MBA课程给大学生的启示   \n",
       "\n",
       "                                                    desc  \\\n",
       "13455  Ofrecido por Universidad del Estado de Arizona...   \n",
       "14032  Ofrecido por Google Cloud. This self-paced tra...   \n",
       "14614  Ofrecido por Museo Americano de Historia Natur...   \n",
       "13487  Ofrecido por Universidad Austral. El curso te ...   \n",
       "14715  Ofrecido por Universidad Yonsei. In addition t...   \n",
       "...                                                  ...   \n",
       "17900  Whenever the word “accounting” is pronounced, ...   \n",
       "18738  由 俄罗斯国家研究型高等经济大学 提供。Welcome to the Reinforceme...   \n",
       "18578  由 华盛顿大学 提供。Case Studies: Analyzing Sentiment &...   \n",
       "49563  In business, data and algorithms create econom...   \n",
       "50486  This course will use as its foundation the pri...   \n",
       "\n",
       "                                                  prompt  \\\n",
       "13455  The following text is the title and descriptio...   \n",
       "14032  The following text is the title and descriptio...   \n",
       "14614  The following text is the title and descriptio...   \n",
       "13487  The following text is the title and descriptio...   \n",
       "14715  The following text is the title and descriptio...   \n",
       "...                                                  ...   \n",
       "17900  The following text is the title and descriptio...   \n",
       "18738  The following text is the title and descriptio...   \n",
       "18578  The following text is the title and descriptio...   \n",
       "49563  The following text is the title and descriptio...   \n",
       "50486  The following text is the title and descriptio...   \n",
       "\n",
       "                          hashed_prompt  \n",
       "13455  5027a9f6729e9e622232ad2c5743f5c0  \n",
       "14032  2d7f967dff41b3da101f10f9535fa28f  \n",
       "14614  c02bedb7edff8dae4165cfac665dae09  \n",
       "13487  a325ec8c6b45967bcf4e316a536f2c39  \n",
       "14715  00fa8b30906b0453948e3e44bfccd7bd  \n",
       "...                                 ...  \n",
       "17900  80559913dd52690e7183f1dfafbd6eab  \n",
       "18738  e2bd67425a20478ec24d74da6476b6cb  \n",
       "18578  e7e9fd03c39c88c788aac3eaf0e705e7  \n",
       "49563  1cb975d4697375fc6e07e35aaab1a685  \n",
       "50486  1b6109f0fda8bbc43dbe9d22c26519f4  \n",
       "\n",
       "[9722 rows x 6 columns]"
      ]
     },
     "execution_count": 14,
     "metadata": {},
     "output_type": "execute_result"
    }
   ],
   "source": [
    "sample_prompts"
   ]
  },
  {
   "cell_type": "code",
   "execution_count": 42,
   "id": "61dcc5ba",
   "metadata": {},
   "outputs": [
    {
     "name": "stdout",
     "output_type": "stream",
     "text": [
      "UNPARSABLE COMPLETION: Learning Objectives:\n",
      "1. Изучить принципы и методы ИТ-кризисологии.\n",
      "2. Разработать план модернизации системы автоматизации управления воздушным движением.\n",
      "3. Оценить потенциальные риски и преимущества модернизации.\n",
      "4. Применить принципы ИТ-кризис\n",
      "UNPARSABLE COMPLETION: Learning Objectives:\n",
      "1. Изучить основы финансового анализа и принятия решений по финансированию бизнеса.\n",
      "2. Разработать навыки анализа и принятия решений с позиции кредитора и инвестора.\n",
      "3. Применить практические знания и навыки для анализа финансовых\n",
      "UNPARSABLE COMPLETION: Learning Objectives:\n",
      "1. Изучить основные понятия языка Котлин.\n",
      "2. Научиться писать программы на языке Котлин.\n",
      "3. Научиться использовать библиотеки и фреймворки для разработки приложений на языке Котлин.\n",
      "4. Научиться отлаживать и оптимизировать програм\n",
      "UNPARSABLE COMPLETION: Learning Objectives:\n",
      "1. Изучить основные понятия и принципы теории вероятностей.\n",
      "2. Разработать навыки применения теории вероятностей для решения математических задач.\n",
      "3. Применить принципы теории вероятностей для анализа и прогнозирования случайных с\n",
      "UNPARSABLE COMPLETION: Learning Objectives:\n",
      "1. تطوير المهارات اللغوية الإنجليزية للطلاب.\n",
      "2. تطوير المهارات الإجتماعية والتواصلية للطلاب.\n",
      "3. تطوير المهارات الإدارية والإدارية للطلاب.\n",
      "4. تطوير المهارات الإكتشافية والتحليلية للطلاب.\n",
      "5. تطوير المهارات الإبداعية والتطويرية للطلاب.\n",
      "\n",
      "Subject: اللغة الإنجليزية\n",
      "UNPARSABLE COMPLETION: Learning Objectives:\n",
      "1. Изучить основные принципы чтения фотографий.\n",
      "2. Развить навыки анализа и интерпретации изображений.\n",
      "3. Применить полученные знания для анализа исторических фотографий.\n",
      "4. Освоить практические навыки по работе с фотографи\n",
      "UNPARSABLE COMPLETION: Learning Objectives:\n",
      "1. Изучить основы юридического оформления инвестиционных идей.\n",
      "2. Разработать план действий для реализации инвестиционных идей.\n",
      "3. Освоить правила и процедуры по оформлению инвестиционных идей.\n",
      "4. Ознакомиться с практическим\n",
      "UNPARSABLE COMPLETION: Learning Objectives:\n",
      "1. تعلم الأساسيات الأساسية لبرنامج جداول البيانات\n",
      "2. تطوير المهارات الإكسل الخاصة بالأعمال التجارية\n",
      "3. تطوير المهارات الإكسل الخاصة بالتحليل الإحصائي\n",
      "4. تطوير المهارات الإكسل الخاصة بالتصميم الجدولي\n",
      "5. تطوير المهارات الإكسل الخاصة بالتحليل المالي\n",
      "6. تطوير المهارات ال\n",
      "UNPARSABLE COMPLETION: Learning Objectives:\n",
      "1. Изучить основы фондового рынка для частных инвесторов сегмента Mass Retail.\n",
      "2. Освоить практические навыки инвестирования на фондовом рынке.\n",
      "3. Разработать стратегию инвестирования для частных инвесторов сегмента Mass Retail.\n",
      "4. Применить полученные\n",
      "UNPARSABLE COMPLETION: Learning Objectives:\n",
      "1. Изучить историю изобретений, которые изменили мир.\n",
      "2. Обсудить инфраструктуру, инженерию и измерения, которые привели к изобретениям.\n",
      "3. Оценить влияние изобретений на мир.\n",
      "4. Изучить принципы и процессы изобретения.\n",
      "\n",
      "Subject: Исто\n",
      "UNPARSABLE COMPLETION: Learning Objectives:\n",
      "1. Изучить правила и приёмы профессионального изображения моделей одежды.\n",
      "2. Освоить приёмы и правила рисования моделей одежды для различных назначений.\n",
      "3. Научиться использовать различные техники и стили иллюстрации моделе\n",
      "UNPARSABLE COMPLETION: Learning Objectives:\n",
      "1. Изучить основные принципы работы с данными средствами Power Query и Power Pivot.\n",
      "2. Научиться импортировать данные из различных источников.\n",
      "3. Освоить приемы преобразования данных и их анализа.\n",
      "4. Научиться создавать и использовать модели данных\n",
      "UNPARSABLE COMPLETION: Learning objectives:\n",
      "1. Изучить основы банковского дела и финансов.\n",
      "2. Разработать понимание принципов и практик банковского дела.\n",
      "3. Изучить правила и процедуры банковского дела.\n",
      "4. Изучить принципы управления финансами.\n",
      "5. Разработать навыки анализа\n",
      "UNPARSABLE COMPLETION: Learning Objectives:\n",
      "1. Изучить процесс коммерциализации результатов научных исследований и разработок.\n",
      "2. Освоить практические навыки по коммерциализации результатов НИОКР.\n",
      "3. Разработать стратегию коммерциализации результатов НИОКР.\n",
      "4\n",
      "UNPARSABLE COMPLETION: Learning Objectives:\n",
      "1. Изучить влияние человеческого фактора на разработку корпоративных систем.\n",
      "2. Изучить принципы и методы разработки корпоративных систем.\n",
      "3. Изучить принципы и методы оценки эффективности корпоративных систем.\n",
      "4. Изучит\n",
      "UNPARSABLE COMPLETION: Learning Objectives:\n",
      "1. Изучить базовые принципы биологических тканей и их строения.\n",
      "2. Изучить принципы моделирования в биомедицинской физике.\n",
      "3. Изучить применение биологических тканей для моделирования в биомедицинской физике.\n",
      "4. Изучить при\n",
      "UNPARSABLE COMPLETION: Learning Objectives:\n",
      "1. Изучить принципы верстки сложных макетов;\n",
      "2. Научиться использовать современные инструменты для верстки;\n",
      "3. Получить практические навыки верстки;\n",
      "4. Научиться правильно использовать HTML и CSS для верстки;\n",
      "5. Получить практические навыки\n",
      "UNPARSABLE COMPLETION: Learning Objectives:\n",
      "1. Изучить историю драгоценных камней.\n",
      "2. Изучить процесс диагностики и экспертизы драгоценных камней.\n",
      "3. Изучить различные методы оценки драгоценных камней.\n",
      "4. Изучить правила и процедуры приобретения драгоценных ка\n",
      "UNPARSABLE COMPLETION: Learning Objectives:\n",
      "1. Изучить основы машинного обучения и больших данных.\n",
      "2. Понять принципы обработки и анализа больших данных.\n",
      "3. Научиться применять машинное обучение для решения практических задач.\n",
      "4. Развить навыки программирования для ан\n",
      "UNPARSABLE COMPLETION: Learning Objectives:\n",
      "1. Изучить ключевые концепции профилактики нарушений репродуктивного здоровья женщины.\n",
      "2. Освоить четкие алгоритмы действий при беременности.\n",
      "3. Получить практические навыки по профилактике и лечению заболеваний репродуктивн\n",
      "UNPARSABLE COMPLETION: Learning Objectives:\n",
      "1. Изучить основы спортивного программирования.\n",
      "2. Разработать программы для решения спортивных задач.\n",
      "3. Изучить алгоритмы и структуры данных, используемые в спортивном программировании.\n",
      "4. Применить принципы объектно-ориентиров\n",
      "UNPARSABLE COMPLETION: Learning Objectives:\n",
      "1. Изучить идиомы языка C++.\n",
      "2. Создавать элегантные, эффективные и надёжные блоки кода.\n",
      "3. Понимать основные принципы программирования на С++.\n",
      "4. Использовать различные возможности языка для разработки программ.\n",
      "\n",
      "Subject: Разработка на\n",
      "UNPARSABLE COMPLETION: Learning Objectives:\n",
      "1. Изучить математические принципы анализа данных.\n",
      "2. Изучить принципы линейной алгебры и методов оптимизации.\n",
      "3. Изучить принципы машинного обучения.\n",
      "4. Изучить принципы программирования на Python.\n",
      "5. Применить полученные зна\n",
      "UNPARSABLE COMPLETION: Learning Objectives:\n",
      "1. Изучить процесс проектирования музейной экспозиции в диалогах дизайнера и музеолога.\n",
      "2. Изучить принципы дизайна и проектирования музейных экспозиций.\n",
      "3. Изучить процесс проектирования музейных экспозиций и их\n",
      "UNPARSABLE COMPLETION: Learning Objectives:\n",
      "1. Изучить историю драгоценных камней.\n",
      "2. Освоить принципы диагностики драгоценных камней.\n",
      "3. Научиться проводить экспертизу драгоценных камней.\n",
      "4. Развить навыки оценки качества драгоценных камней.\n",
      "\n",
      "Subject: Драгоценные ка\n",
      "UNPARSABLE COMPLETION: Learning Objectives:\n",
      "1. Изучить принципы верстки сложных элементов.\n",
      "2. Изучить принципы адаптивной верстки.\n",
      "3. Изучить принципы анимации верстки.\n",
      "4. Изучить принципы использования графических элементов в верстке.\n",
      "5. Изучить принципы оптими\n",
      "UNPARSABLE COMPLETION: Learning Objectives:\n",
      "1. Изучить основы методологии научных исследований.\n",
      "2. Развить навыки проведения исследований.\n",
      "3. Изучить основы процесса принятия решений.\n",
      "4. Освоить основы процесса анализа данных.\n",
      "5. Изучить основы процесса презентации резуль\n",
      "UNPARSABLE COMPLETION: Learning Objectives:\n",
      "1. Изучить основные субъекты мировой экономики.\n",
      "2. Получить представление о масштабах и пропорциях экономических ресурсов.\n",
      "3. Изучить человеческий капитал, финансовый и реальный капитал и природные ресурсы.\n",
      "\n",
      "Subject: Мировая экон\n",
      "UNPARSABLE COMPLETION: Learning Objectives:\n",
      "1. Изучить основные понятия и принципы теории кибернетических систем.\n",
      "2. Разработать навыки применения принципов теории кибернетических систем для решения практических задач.\n",
      "3. Применить принципы теории кибернетических систем\n"
     ]
    }
   ],
   "source": [
    "completions_df_data = []\n",
    "\n",
    "for c in completed_01:\n",
    "    out = {}\n",
    "    with open(f'../data/gpt_results/{c}.completion_temp_01') as f:\n",
    "        completion = f.read()\n",
    "    if completion.startswith('ERROR'):\n",
    "        continue\n",
    "    prompt = sample_prompts[sample_prompts.hashed_prompt == c]\n",
    "    out[\"ID\"] = c\n",
    "    out[\"Domain\"] = prompt.domain.iloc[0]\n",
    "    out[\"Year\"] = prompt.year.iloc[0]\n",
    "    out[\"Title\"] = prompt.title.iloc[0]\n",
    "    out[\"Description\"] = prompt.desc.iloc[0]\n",
    "    out[\"URL\"] = prompt.url.iloc[0]\n",
    "    parsed_completion = parse_completion(completion)\n",
    "    if parsed_completion:\n",
    "        los, subject, level = parsed_completion\n",
    "        out['LearningObjectives'] = los\n",
    "        out[\"Subject\"] = subject\n",
    "        out[\"Level\"] = level\n",
    "        completions_df_data.append(out)\n",
    "    else:\n",
    "        print(\"UNPARSABLE COMPLETION:\", completion)"
   ]
  },
  {
   "cell_type": "code",
   "execution_count": 46,
   "id": "f0e06d85",
   "metadata": {},
   "outputs": [],
   "source": [
    "completions_df = pd.DataFrame(completions_df_data)"
   ]
  },
  {
   "cell_type": "code",
   "execution_count": 47,
   "id": "82f3221d",
   "metadata": {},
   "outputs": [
    {
     "data": {
      "text/plain": [
       "(2974, 9)"
      ]
     },
     "execution_count": 47,
     "metadata": {},
     "output_type": "execute_result"
    }
   ],
   "source": [
    "completions_df.shape"
   ]
  },
  {
   "cell_type": "code",
   "execution_count": 49,
   "id": "53d2d432",
   "metadata": {},
   "outputs": [
    {
     "data": {
      "text/html": [
       "<div>\n",
       "<style scoped>\n",
       "    .dataframe tbody tr th:only-of-type {\n",
       "        vertical-align: middle;\n",
       "    }\n",
       "\n",
       "    .dataframe tbody tr th {\n",
       "        vertical-align: top;\n",
       "    }\n",
       "\n",
       "    .dataframe thead th {\n",
       "        text-align: right;\n",
       "    }\n",
       "</style>\n",
       "<table border=\"1\" class=\"dataframe\">\n",
       "  <thead>\n",
       "    <tr style=\"text-align: right;\">\n",
       "      <th></th>\n",
       "      <th>ID</th>\n",
       "      <th>Domain</th>\n",
       "      <th>Year</th>\n",
       "      <th>Title</th>\n",
       "      <th>Description</th>\n",
       "      <th>URL</th>\n",
       "      <th>LearningObjectives</th>\n",
       "      <th>Subject</th>\n",
       "      <th>Level</th>\n",
       "    </tr>\n",
       "  </thead>\n",
       "  <tbody>\n",
       "    <tr>\n",
       "      <th>0</th>\n",
       "      <td>9a290b1c524835bef4b81cb0fb93fd0f</td>\n",
       "      <td>ja.coursera.org</td>\n",
       "      <td>2020</td>\n",
       "      <td>Introducción a la programación en Python I: Ap...</td>\n",
       "      <td>Decía Steve Jobs que “todo el mundo debería ap...</td>\n",
       "      <td>https://ja.coursera.org/learn/aprendiendo-prog...</td>\n",
       "      <td>[Comprender los conceptos básicos de programac...</td>\n",
       "      <td>Programación en Python</td>\n",
       "      <td>Principiantes</td>\n",
       "    </tr>\n",
       "    <tr>\n",
       "      <th>1</th>\n",
       "      <td>4d0285aa87993939346887d78ff28fa4</td>\n",
       "      <td>fr.coursera.org</td>\n",
       "      <td>2020</td>\n",
       "      <td>Business English: Meetings</td>\n",
       "      <td>This course will teach you vocabulary and skil...</td>\n",
       "      <td>https://fr.coursera.org/learn/business-english...</td>\n",
       "      <td>[Understand the purpose of meetings and the ro...</td>\n",
       "      <td>Business English</td>\n",
       "      <td>Beginner to Intermediate</td>\n",
       "    </tr>\n",
       "  </tbody>\n",
       "</table>\n",
       "</div>"
      ],
      "text/plain": [
       "                                 ID           Domain  Year  \\\n",
       "0  9a290b1c524835bef4b81cb0fb93fd0f  ja.coursera.org  2020   \n",
       "1  4d0285aa87993939346887d78ff28fa4  fr.coursera.org  2020   \n",
       "\n",
       "                                               Title  \\\n",
       "0  Introducción a la programación en Python I: Ap...   \n",
       "1                         Business English: Meetings   \n",
       "\n",
       "                                         Description  \\\n",
       "0  Decía Steve Jobs que “todo el mundo debería ap...   \n",
       "1  This course will teach you vocabulary and skil...   \n",
       "\n",
       "                                                 URL  \\\n",
       "0  https://ja.coursera.org/learn/aprendiendo-prog...   \n",
       "1  https://fr.coursera.org/learn/business-english...   \n",
       "\n",
       "                                  LearningObjectives                 Subject  \\\n",
       "0  [Comprender los conceptos básicos de programac...  Programación en Python   \n",
       "1  [Understand the purpose of meetings and the ro...        Business English   \n",
       "\n",
       "                      Level  \n",
       "0             Principiantes  \n",
       "1  Beginner to Intermediate  "
      ]
     },
     "execution_count": 49,
     "metadata": {},
     "output_type": "execute_result"
    }
   ],
   "source": [
    "completions_df.head(2)"
   ]
  },
  {
   "cell_type": "code",
   "execution_count": 51,
   "id": "517d3dc6",
   "metadata": {},
   "outputs": [
    {
     "name": "stderr",
     "output_type": "stream",
     "text": [
      "100%|█████████████████████████████| 2974/2974 [00:35<00:00, 83.16it/s]\n"
     ]
    }
   ],
   "source": [
    "props = dict()\n",
    "for url in tqdm(completions_df.URL):\n",
    "    for filename, ed_data in top_ed_data:\n",
    "        domain, year = get_name_year(filename)\n",
    "        if ed_data.shape[0] > 0:\n",
    "            props_for_url = ed_data[ed_data.s == url]\n",
    "            if props_for_url.shape[0] > 0:\n",
    "                props[url] = props_for_url\n",
    "                break\n"
   ]
  },
  {
   "cell_type": "code",
   "execution_count": 54,
   "id": "f51ddb17",
   "metadata": {},
   "outputs": [],
   "source": [
    "language = dict()\n",
    "for url in props:\n",
    "    ps = props[url]\n",
    "    language[url] = None\n",
    "    languages = ps[ps.p == 'http://schema.org/inLanguage']\n",
    "    if languages.shape[0] > 0:\n",
    "        language[url] = languages.o.iloc[0]"
   ]
  },
  {
   "cell_type": "code",
   "execution_count": 63,
   "id": "5ee3d22d",
   "metadata": {},
   "outputs": [],
   "source": [
    "completions_df['language'] = completions_df.URL.apply(language.__getitem__)"
   ]
  },
  {
   "cell_type": "code",
   "execution_count": 64,
   "id": "1ec51e05",
   "metadata": {},
   "outputs": [
    {
     "data": {
      "text/plain": [
       "ja.coursera.org     1195\n",
       "fr.coursera.org      863\n",
       "es.coursera.org      707\n",
       "www.coursera.org      79\n",
       "www.edx.org           41\n",
       "ru.coursera.org       26\n",
       "pt.coursera.org       23\n",
       "www.diziler.com       22\n",
       "zh.coursera.org       18\n",
       "Name: Domain, dtype: int64"
      ]
     },
     "execution_count": 64,
     "metadata": {},
     "output_type": "execute_result"
    }
   ],
   "source": [
    "completions_df.Domain.value_counts()"
   ]
  },
  {
   "cell_type": "code",
   "execution_count": 68,
   "id": "ee368e13",
   "metadata": {},
   "outputs": [
    {
     "data": {
      "text/plain": [
       "Computer Science           69\n",
       "Cloud Computing            52\n",
       "Data Science               43\n",
       "Finance                    38\n",
       "Machine Learning           34\n",
       "Statistics                 30\n",
       "Business                   29\n",
       "Artificial Intelligence    25\n",
       "Economics                  25\n",
       "Public Health              24\n",
       "Education                  24\n",
       "Philosophy                 22\n",
       "Mathematics                21\n",
       "History                    21\n",
       "Leadership                 20\n",
       "Cybersecurity              20\n",
       "Psychology                 16\n",
       "Data Analysis              16\n",
       "Physics                    15\n",
       "Python Programming         14\n",
       "Name: Subject, dtype: int64"
      ]
     },
     "execution_count": 68,
     "metadata": {},
     "output_type": "execute_result"
    }
   ],
   "source": [
    "completions_df[completions_df.language == 'en'].Subject.value_counts().iloc[:20]"
   ]
  },
  {
   "cell_type": "code",
   "execution_count": 79,
   "id": "a75aecc6",
   "metadata": {},
   "outputs": [
    {
     "data": {
      "text/plain": [
       "Analyze financial statements and reports.                         11\n",
       "Develop skills in data analysis and visualization.                 8\n",
       "Develop problem-solving skills.                                    7\n",
       "Learn how to register for the course for free.                     7\n",
       "Develop skills in data analysis and interpretation.                6\n",
       "Understand the fundamentals of data science.                       6\n",
       "Analyze data to identify trends and patterns.                      6\n",
       "Understand the fundamentals of financial accounting.               5\n",
       "Develop basic conversational skills in Mandarin Chinese.           5\n",
       "Develop skills in data visualization.                              5\n",
       "Develop an understanding of the accounting cycle.                  5\n",
       "Understand the fundamentals of machine learning                    5\n",
       "Understand the fundamentals of machine learning.                   5\n",
       "Develop an understanding of Chinese culture and customs.           5\n",
       "Understand the fundamentals of Python programming.                 5\n",
       "Understand the fundamentals of probabilistic graphical models.     5\n",
       "Develop critical thinking skills.                                  4\n",
       "Develop the skills to analyze and interpret data.                  4\n",
       "Evaluate financial performance.                                    4\n",
       "Develop effective communication strategies.                        4\n",
       "dtype: int64"
      ]
     },
     "execution_count": 79,
     "metadata": {},
     "output_type": "execute_result"
    }
   ],
   "source": [
    "los = completions_df[completions_df.language == 'en'].LearningObjectives.apply(pd.Series).unstack().reset_index(drop=True)\n",
    "los.value_counts().iloc[:20]"
   ]
  },
  {
   "cell_type": "code",
   "execution_count": 6,
   "id": "dd8b7e37",
   "metadata": {},
   "outputs": [],
   "source": [
    "years = [2019.]"
   ]
  },
  {
   "cell_type": "code",
   "execution_count": 38,
   "id": "95134041",
   "metadata": {},
   "outputs": [],
   "source": [
    "import pickle\n",
    "p_counts = dict()\n",
    "for year in years:\n",
    "    with open(f'../data/p_counts_{year}.pickle', 'rb') as f:\n",
    "        p_counts[year] = pickle.load(f)\n",
    "        p_counts[year].columns = p_counts[year].columns.droplevel(0)"
   ]
  },
  {
   "cell_type": "code",
   "execution_count": 39,
   "id": "b2a7eeaa",
   "metadata": {},
   "outputs": [
    {
     "data": {
      "text/plain": [
       "(216656, 296)"
      ]
     },
     "execution_count": 39,
     "metadata": {},
     "output_type": "execute_result"
    }
   ],
   "source": [
    "p_counts[2019].shape"
   ]
  },
  {
   "cell_type": "code",
   "execution_count": 13,
   "id": "a8e4f216",
   "metadata": {},
   "outputs": [],
   "source": [
    "education_ps = [\n",
    "\n",
    "'http://schema.org/courseCode',\n",
    "\n",
    "'http://schema.org/coursePrerequisite', \n",
    "\n",
    "'http://schema.org/courseSku',\n",
    "\n",
    "'http://schema.org/educationalCredentialAwarded',\n",
    "\n",
    "'http://schema.org/educationalOutcome',\n",
    "\n",
    "'http://schema.org/hasCourseInstance', \n",
    "\n",
    "'http://schema.org/subjectOfStudy',\n",
    "\n",
    "\"http://schema.org/alignmentType\",\n",
    "\n",
    "\"http://schema.org/educationalFramework\",\n",
    "\n",
    "\"http://schema.org/educationalAlignment\",\n",
    "\n",
    "\"http://schema.org/learningResourceType\",\n",
    "\n",
    "\"http://schema.org/interactivityType\",\n",
    "\n",
    "\"http://schema.org/educationalUse\",\n",
    "\n",
    "\"http://schema.org/educationalLevel\",\n",
    "\n",
    "]"
   ]
  },
  {
   "cell_type": "code",
   "execution_count": 19,
   "id": "42678cb6",
   "metadata": {},
   "outputs": [],
   "source": [
    "col_list = set(education_ps).intersection(p_counts[2019].columns.get_level_values(1))\n"
   ]
  },
  {
   "cell_type": "code",
   "execution_count": 22,
   "id": "2d8806da",
   "metadata": {},
   "outputs": [],
   "source": [
    "p_counts[2019].columns = p_counts[2019].columns.droplevel(0)"
   ]
  },
  {
   "cell_type": "code",
   "execution_count": 29,
   "id": "84227355",
   "metadata": {},
   "outputs": [
    {
     "name": "stderr",
     "output_type": "stream",
     "text": [
      "/tmp/ipykernel_1539759/310286761.py:1: FutureWarning: Passing a set as an indexer is deprecated and will raise in a future version. Use a list instead.\n",
      "  total = p_counts[2019][col_list].shape[0]\n",
      "/tmp/ipykernel_1539759/310286761.py:2: FutureWarning: Passing a set as an indexer is deprecated and will raise in a future version. Use a list instead.\n",
      "  has_ed = p_counts[2019][col_list].dropna(how='all')\n"
     ]
    },
    {
     "data": {
      "text/plain": [
       "0.033029318366442656"
      ]
     },
     "execution_count": 29,
     "metadata": {},
     "output_type": "execute_result"
    }
   ],
   "source": [
    "total = p_counts[2019][col_list].shape[0]\n",
    "has_ed = p_counts[2019][col_list].dropna(how='all')\n",
    "has_ed.shape[0] / total"
   ]
  },
  {
   "cell_type": "code",
   "execution_count": 35,
   "id": "f5169a3e",
   "metadata": {},
   "outputs": [
    {
     "data": {
      "text/plain": [
       "www.edx.org          1576\n",
       "codegalaxy.io        1241\n",
       "studylib.net          932\n",
       "studylibnl.com        262\n",
       "www.fisicalab.com     259\n",
       "studylibpl.com        251\n",
       "studylibpt.com        204\n",
       "studylibtr.com        197\n",
       "studylibde.com        197\n",
       "studylib.ru           169\n",
       "Name: 0, dtype: int64"
      ]
     },
     "execution_count": 35,
     "metadata": {},
     "output_type": "execute_result"
    }
   ],
   "source": [
    "has_ed.index.str.extract('^.*:\\/\\/(.*?)\\/.*$')[0].value_counts().iloc[:10]"
   ]
  },
  {
   "cell_type": "code",
   "execution_count": 42,
   "id": "08fcb501",
   "metadata": {},
   "outputs": [],
   "source": [
    "def get_domains_with_ed_props(df):\n",
    "    col_list = set(education_ps).intersection(df.columns)\n",
    "    has_ed = df[col_list].dropna(how='all')\n",
    "    top_domains = has_ed.index.str.extract('^.*:\\/\\/(.*?)\\/.*$')[0].value_counts().iloc[:10]\n",
    "    all_domains = df.index.str.extract('^.*:\\/\\/(.*?)\\/.*$')[0].value_counts().iloc[:10]\n",
    "    return top_domains, all_domains\n",
    "    "
   ]
  },
  {
   "cell_type": "code",
   "execution_count": 44,
   "id": "b14ddb2c",
   "metadata": {},
   "outputs": [
    {
     "name": "stderr",
     "output_type": "stream",
     "text": [
      "/tmp/ipykernel_1539759/1610503958.py:3: FutureWarning: Passing a set as an indexer is deprecated and will raise in a future version. Use a list instead.\n",
      "  has_ed = df[col_list].dropna(how='all')\n"
     ]
    },
    {
     "name": "stdout",
     "output_type": "stream",
     "text": [
      "2019 --->\n",
      "1576\n",
      "1241\n",
      "932\n",
      "262\n",
      "259\n",
      "251\n",
      "204\n",
      "197\n",
      "197\n",
      "169\n",
      "1.0\n"
     ]
    }
   ],
   "source": [
    "for year in years:\n",
    "    top_ed_domains, all_domains = get_domains_with_ed_props(p_counts[year])\n",
    "    print(year, \"--->\")\n",
    "    for d in top_ed_domains.iloc[:10]:\n",
    "        print(d)\n",
    "    print(all_domains.shape[0] / top_ed_domains.shape[0])"
   ]
  },
  {
   "cell_type": "code",
   "execution_count": null,
   "id": "c10a97d1",
   "metadata": {},
   "outputs": [],
   "source": []
  },
  {
   "cell_type": "code",
   "execution_count": null,
   "id": "3cdc87f8",
   "metadata": {},
   "outputs": [],
   "source": []
  },
  {
   "cell_type": "code",
   "execution_count": null,
   "id": "b700b1cd",
   "metadata": {},
   "outputs": [],
   "source": []
  },
  {
   "cell_type": "code",
   "execution_count": 4,
   "id": "6045c59d",
   "metadata": {},
   "outputs": [],
   "source": [
    "# p_counts = []\n",
    "# for url in props:\n",
    "#     ps = props[url]\n",
    "#     ps = ps.p.value_counts().to_dict()\n",
    "#     ps['url'] = url\n",
    "#     lower_ps = dict()\n",
    "#     for k in ps:\n",
    "#         lower_ps[k.lower()] = ps[k]\n",
    "#     p_counts.append(lower_ps)\n",
    "# p_counts_df = pd.DataFrame(p_counts)"
   ]
  },
  {
   "cell_type": "code",
   "execution_count": 4,
   "id": "600e61b3",
   "metadata": {},
   "outputs": [],
   "source": [
    "import numpy as np\n",
    "import pandas as pd\n",
    "from sklearn.decomposition import PCA\n",
    "import matplotlib.pyplot as plt\n",
    "\n",
    "def pca_plot(data, n_components=2):\n",
    "    # Standardize the data\n",
    "    data_std = (data - data.mean()) / data.std()\n",
    "\n",
    "    # Create a PCA object with the desired number of components\n",
    "    pca = PCA(n_components=n_components)\n",
    "\n",
    "    # Fit the PCA model to the data\n",
    "    pca.fit(data_std)\n",
    "\n",
    "    # Transform the data using the PCA model\n",
    "    data_pca = pca.transform(data_std)\n",
    "\n",
    "    # Plot the transformed data\n",
    "    fig, ax = plt.subplots()\n",
    "    ax.scatter(data_pca[:, 0], data_pca[:, 1])\n",
    "    ax.set_xlabel(\"PC1\")\n",
    "    ax.set_ylabel(\"PC2\")\n",
    "    ax.set_title(\"PCA Plot\")\n",
    "\n",
    "    plt.show()\n"
   ]
  },
  {
   "cell_type": "code",
   "execution_count": 5,
   "id": "b5033801",
   "metadata": {},
   "outputs": [
    {
     "data": {
      "image/png": "[encoded data removed]",
      "text/plain": [
       "<Figure size 640x480 with 1 Axes>"
      ]
     },
     "metadata": {},
     "output_type": "display_data"
    }
   ],
   "source": [
    "pca_plot(p_counts[2020].sample(frac=0.1).fillna(0).values)"
   ]
  },
  {
   "cell_type": "code",
   "execution_count": 132,
   "id": "2814a5cb",
   "metadata": {},
   "outputs": [],
   "source": [
    "import numpy as np\n",
    "import pandas as pd\n",
    "from sklearn.decomposition import PCA\n",
    "from sklearn.cluster import KMeans\n",
    "import matplotlib.pyplot as plt\n",
    "\n",
    "def pca_plot_clusters(data, n_components=2, n_clusters=2):\n",
    "    # Standardize the data\n",
    "    data_std = (data - data.mean()) / data.std()\n",
    "\n",
    "    # Create a PCA object with the desired number of components\n",
    "    pca = PCA(n_components=n_components)\n",
    "\n",
    "    # Fit the PCA model to the data\n",
    "    pca.fit(data_std)\n",
    "\n",
    "    # Transform the data using the PCA model\n",
    "    data_pca = pca.transform(data_std)\n",
    "\n",
    "    # Cluster the transformed data using k-means clustering\n",
    "    kmeans = KMeans(n_clusters=n_clusters, random_state=0)\n",
    "    labels = kmeans.fit_predict(data_pca)\n",
    "    \n",
    "    ls = labels.copy()\n",
    "\n",
    "    # Plot the transformed data with colors based on the cluster labels\n",
    "    fig, ax = plt.subplots()\n",
    "    scatter = ax.scatter(data_pca[:, 0], data_pca[:, 1], c=labels, cmap='rainbow')\n",
    "    ax.set_xlabel(\"PC1\")\n",
    "    ax.set_ylabel(\"PC2\")\n",
    "    ax.set_title(\"PCA Plot with Clusters\")\n",
    "\n",
    "    # Add a legend\n",
    "    handles, labels = scatter.legend_elements()\n",
    "    legend = ax.legend(handles, labels, loc=\"upper right\")\n",
    "\n",
    "    plt.show()\n",
    "    return ls\n"
   ]
  },
  {
   "cell_type": "code",
   "execution_count": 135,
   "id": "cfd1a449",
   "metadata": {},
   "outputs": [
    {
     "name": "stderr",
     "output_type": "stream",
     "text": [
      "/home/rsebastian/.anaconda3/envs/lwva/lib/python3.8/site-packages/sklearn/cluster/_kmeans.py:870: FutureWarning: The default value of `n_init` will change from 10 to 'auto' in 1.4. Set the value of `n_init` explicitly to suppress the warning\n",
      "  warnings.warn(\n"
     ]
    },
    {
     "data": {
      "image/png": "[encoded data removed]",
      "text/plain": [
       "<Figure size 640x480 with 1 Axes>"
      ]
     },
     "metadata": {},
     "output_type": "display_data"
    }
   ],
   "source": [
    "cluster_labels = pca_plot_clusters(p_counts_df.fillna(0).drop(columns='url'), \n",
    "                                   n_components=2, n_clusters=2)\n",
    "cluster_labels = pd.DataFrame(zip(p_counts_df.url.values, cluster_labels), columns=[\"url\", \"cluster\"])"
   ]
  },
  {
   "cell_type": "code",
   "execution_count": 124,
   "id": "340d62cb",
   "metadata": {},
   "outputs": [
    {
     "data": {
      "text/plain": [
       "0    2306\n",
       "2     558\n",
       "1      22\n",
       "Name: cluster, dtype: int64"
      ]
     },
     "execution_count": 124,
     "metadata": {},
     "output_type": "execute_result"
    }
   ],
   "source": [
    "cluster_labels.cluster.value_counts()"
   ]
  },
  {
   "cell_type": "code",
   "execution_count": 125,
   "id": "45a3e313",
   "metadata": {},
   "outputs": [
    {
     "data": {
      "text/plain": [
       "cluster\n",
       "0    [fr.coursera.org, ja.coursera.org, es.coursera...\n",
       "1                                    [www.diziler.com]\n",
       "2    [ja.coursera.org, fr.coursera.org, es.coursera...\n",
       "dtype: object"
      ]
     },
     "execution_count": 125,
     "metadata": {},
     "output_type": "execute_result"
    }
   ],
   "source": [
    "cluster_labels.groupby('cluster').apply(lambda df: df.url.apply(lambda s: s.split('//')[1].split('/')[0]).unique())"
   ]
  },
  {
   "cell_type": "code",
   "execution_count": 111,
   "id": "a8d597fc",
   "metadata": {},
   "outputs": [
    {
     "data": {
      "text/plain": [
       "(2886,)"
      ]
     },
     "execution_count": 111,
     "metadata": {},
     "output_type": "execute_result"
    }
   ],
   "source": [
    "cluster_labels.shape"
   ]
  },
  {
   "cell_type": "code",
   "execution_count": null,
   "id": "ab8910b0",
   "metadata": {},
   "outputs": [],
   "source": []
  },
  {
   "cell_type": "code",
   "execution_count": null,
   "id": "ce0be24f",
   "metadata": {},
   "outputs": [],
   "source": []
  },
  {
   "cell_type": "code",
   "execution_count": 59,
   "id": "57813d35",
   "metadata": {},
   "outputs": [
    {
     "data": {
      "text/plain": [
       "en       2050\n",
       "es        295\n",
       "ru        197\n",
       "fr         75\n",
       "pt-BR      73\n",
       "zh-CN      40\n",
       "ar         25\n",
       "en-us      25\n",
       "ja         23\n",
       "tr-TR      22\n",
       "zh-TW      17\n",
       "de          9\n",
       "id          5\n",
       "he          3\n",
       "es-mx       3\n",
       "pt          2\n",
       "it          2\n",
       "en-au       2\n",
       "sv          2\n",
       "tr          2\n",
       "es-gt       2\n",
       "uk          2\n",
       "en-ca       1\n",
       "es-co       1\n",
       "de-de       1\n",
       "es-es       1\n",
       "es-ar       1\n",
       "hi          1\n",
       "en-in       1\n",
       "fr-fr       1\n",
       "en-gb       1\n",
       "dtype: int64"
      ]
     },
     "execution_count": 59,
     "metadata": {},
     "output_type": "execute_result"
    }
   ],
   "source": [
    "pd.Series([i for i in language.values() if i]).value_counts()"
   ]
  },
  {
   "cell_type": "code",
   "execution_count": 103,
   "id": "fa4cd3a0",
   "metadata": {},
   "outputs": [],
   "source": [
    "# How is license being used"
   ]
  },
  {
   "cell_type": "code",
   "execution_count": null,
   "id": "8ee0b2ee",
   "metadata": {},
   "outputs": [],
   "source": [
    "# Ask teachers before they start using it for stuff you want to automatically detect.\n",
    "# I think you're currently exploring / something else , are you ?"
   ]
  },
  {
   "cell_type": "code",
   "execution_count": null,
   "id": "a4d00b4b",
   "metadata": {},
   "outputs": [],
   "source": []
  },
  {
   "cell_type": "code",
   "execution_count": null,
   "id": "84c09efe",
   "metadata": {},
   "outputs": [],
   "source": [
    "another_running_set.hashed_prompt"
   ]
  },
  {
   "cell_type": "code",
   "execution_count": null,
   "id": "800b4f4d",
   "metadata": {},
   "outputs": [],
   "source": [
    "prompt_texts = set()\n",
    "prompt_lengths = []\n",
    "\n",
    "for _, prompt in sample_prompts.iterrows():\n",
    "    prompt_text = prompt.prompt\n",
    "    prompt_texts.add(prompt_text)\n",
    "    prompt_lengths.append(len(prompt_text.split(' ')))\n",
    "\n",
    "len(set(prompt_texts)), sum(prompt_lengths)"
   ]
  },
  {
   "cell_type": "code",
   "execution_count": null,
   "id": "c2dbe53b",
   "metadata": {},
   "outputs": [],
   "source": []
  },
  {
   "cell_type": "code",
   "execution_count": null,
   "id": "db62c7af",
   "metadata": {},
   "outputs": [],
   "source": [
    "prompt_texts"
   ]
  },
  {
   "cell_type": "code",
   "execution_count": null,
   "id": "4f2e9c29",
   "metadata": {},
   "outputs": [],
   "source": [
    "17 / 50"
   ]
  },
  {
   "cell_type": "code",
   "execution_count": null,
   "id": "3ce12f5d",
   "metadata": {},
   "outputs": [],
   "source": [
    "title_descs_sample.title.iloc[0]"
   ]
  },
  {
   "cell_type": "code",
   "execution_count": null,
   "id": "b358b603",
   "metadata": {},
   "outputs": [],
   "source": []
  },
  {
   "cell_type": "code",
   "execution_count": null,
   "id": "fd2a87d9",
   "metadata": {},
   "outputs": [],
   "source": []
  },
  {
   "cell_type": "code",
   "execution_count": null,
   "id": "ec590463",
   "metadata": {},
   "outputs": [],
   "source": [
    "[(f, df[df.p.str.contains('description')].o.value_counts()) \n",
    " for (f, df) \n",
    " in top_ed_data]"
   ]
  },
  {
   "cell_type": "code",
   "execution_count": null,
   "id": "27941092",
   "metadata": {},
   "outputs": [],
   "source": []
  }
 ],
 "metadata": {
  "kernelspec": {
   "display_name": "Python 3 (ipykernel)",
   "language": "python",
   "name": "python3"
  },
  "language_info": {
   "codemirror_mode": {
    "name": "ipython",
    "version": 3
   },
   "file_extension": ".py",
   "mimetype": "text/x-python",
   "name": "python",
   "nbconvert_exporter": "python",
   "pygments_lexer": "ipython3",
   "version": "3.8.16"
  }
 },
 "nbformat": 4,
 "nbformat_minor": 5
}
