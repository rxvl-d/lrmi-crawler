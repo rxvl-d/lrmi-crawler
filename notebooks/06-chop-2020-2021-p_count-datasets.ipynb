{
 "cells": [
  {
   "cell_type": "code",
   "execution_count": 1,
   "id": "4ce477b0",
   "metadata": {},
   "outputs": [],
   "source": [
    "import pickle\n",
    "impor"
   ]
  },
  {
   "cell_type": "code",
   "execution_count": 2,
   "id": "835bc74f",
   "metadata": {},
   "outputs": [
    {
     "name": "stdout",
     "output_type": "stream",
     "text": [
      "counts_of_unique_subjects.pickle    p_counts_2020.pickle\r\n",
      "dpef.html-embedded-jsonld.nq-00000  p_counts_2021.pickle\r\n",
      "gpt_results\t\t\t    processed\r\n",
      "out\t\t\t\t    p_vocab.pickle\r\n",
      "p_counts_2019.pickle\t\t    sample_prompts.pickle\r\n",
      "p_counts_2019_sparse_values.pickle  webdatacommons\r\n",
      "p_counts_2019_values.pickle\r\n"
     ]
    }
   ],
   "source": [
    "! ls ../data/"
   ]
  },
  {
   "cell_type": "code",
   "execution_count": null,
   "id": "93221935",
   "metadata": {},
   "outputs": [],
   "source": [
    "v"
   ]
  },
  {
   "cell_type": "code",
   "execution_count": 4,
   "id": "487e56e7",
   "metadata": {},
   "outputs": [
    {
     "data": {
      "text/plain": [
       "1054705"
      ]
     },
     "execution_count": 4,
     "metadata": {},
     "output_type": "execute_result"
    }
   ],
   "source": [
    "data_2020.shape[0]"
   ]
  },
  {
   "cell_type": "code",
   "execution_count": 5,
   "id": "55bfd8b7",
   "metadata": {},
   "outputs": [
    {
     "name": "stdout",
     "output_type": "stream",
     "text": [
      "216656\n"
     ]
    }
   ],
   "source": [
    "with open('../data/p_counts_2019.pickle', 'rb') as f:\n",
    "    print(pickle.load(f).shape[0])"
   ]
  },
  {
   "cell_type": "code",
   "execution_count": null,
   "id": "363f77a3",
   "metadata": {},
   "outputs": [],
   "source": []
  }
 ],
 "metadata": {
  "kernelspec": {
   "display_name": "Python 3 (ipykernel)",
   "language": "python",
   "name": "python3"
  },
  "language_info": {
   "codemirror_mode": {
    "name": "ipython",
    "version": 3
   },
   "file_extension": ".py",
   "mimetype": "text/x-python",
   "name": "python",
   "nbconvert_exporter": "python",
   "pygments_lexer": "ipython3",
   "version": "3.8.16"
  }
 },
 "nbformat": 4,
 "nbformat_minor": 5
}
