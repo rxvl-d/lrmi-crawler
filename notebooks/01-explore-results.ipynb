{
 "cells": [
  {
   "cell_type": "code",
   "execution_count": 1,
   "id": "8040e2ff",
   "metadata": {},
   "outputs": [],
   "source": [
    "import pandas as pd\n",
    "import seaborn as sns\n",
    "import re\n",
    "from glob import glob\n",
    "from collections import Counter"
   ]
  },
  {
   "cell_type": "code",
   "execution_count": 2,
   "id": "bbcb6b1d",
   "metadata": {},
   "outputs": [],
   "source": [
    "out_files = glob('../data/lrmi-crawler-out/*.out')"
   ]
  },
  {
   "cell_type": "code",
   "execution_count": 3,
   "id": "6b28a8ea",
   "metadata": {},
   "outputs": [],
   "source": [
    "triples = []\n",
    "for out_file in out_files:\n",
    "    with open(out_file, 'r') as f:\n",
    "        for l in f:\n",
    "            triples.append(l[:-1].split(','))"
   ]
  },
  {
   "cell_type": "code",
   "execution_count": 4,
   "id": "2477e814",
   "metadata": {},
   "outputs": [
    {
     "data": {
      "text/plain": [
       "1736"
      ]
     },
     "execution_count": 4,
     "metadata": {},
     "output_type": "execute_result"
    }
   ],
   "source": [
    "len(triples)"
   ]
  },
  {
   "cell_type": "code",
   "execution_count": 5,
   "id": "2273c632",
   "metadata": {},
   "outputs": [],
   "source": [
    "def get_domain(s):\n",
    "    matches = re.match('http.*://(.*?)/.*', s)\n",
    "    if matches:\n",
    "        return matches.groups(0)[0]\n",
    "    else:\n",
    "        return None"
   ]
  },
  {
   "cell_type": "code",
   "execution_count": 6,
   "id": "169be27c",
   "metadata": {
    "scrolled": true
   },
   "outputs": [
    {
     "data": {
      "text/plain": [
       "11sqft.com                     969\n",
       "2014.sohu.com                  275\n",
       "bydti.com                      127\n",
       "free.livesex.top                60\n",
       "digi.it.sohu.com                33\n",
       "2016.sohu.com                   32\n",
       "2d-market.com                   30\n",
       "fetish.livesex.top              30\n",
       "agenda.albi.fr                  20\n",
       "capsiplexfrance.com             18\n",
       "acontrablues.com                14\n",
       "annuity-leads-online.com        14\n",
       "acontrablues.es                 14\n",
       "bobbycurtola.com                13\n",
       "globaltamilnews.net             12\n",
       "2ear.tech                       10\n",
       "dieschoenenunddasbiest.de        8\n",
       "beyazgazete.com                  6\n",
       "archive.d-academy.com.ua         6\n",
       "dpo.ui-miit.ru                   4\n",
       "afrarubinomusic.com              4\n",
       "communitybikeshop.org            3\n",
       "cave-bruneau-valdeloire.com      2\n",
       "news.sohu.com                    2\n",
       "digitalpresense.com              2\n",
       "f1.sohu.com                      2\n",
       "e-bbes.de                        2\n",
       "bowuzhi.fm                       2\n",
       "gotoxxxtube.com                  2\n",
       "busangpodcast.com                2\n",
       "duo-kermani-gentili.com          2\n",
       "caretrainingacademy.co.uk        2\n",
       "fund.sohu.com                    1\n",
       "bruskar.ru                       1\n",
       "channelawesome.club              1\n",
       "butehbrod.ru                     1\n",
       "assignmentmakers.com             1\n",
       "cdn3.profax.ch                   1\n",
       "aviationathome.ir                1\n",
       "c.360webcache.com                1\n",
       "628.1133019.com                  1\n",
       "albertalimousin.ca               1\n",
       "caritas-skm.org                  1\n",
       "desertsungolfclassic.com         1\n",
       "cn.epochtimes.com                1\n",
       "clecenter.com                    1\n",
       "dtype: int64"
      ]
     },
     "execution_count": 6,
     "metadata": {},
     "output_type": "execute_result"
    }
   ],
   "source": [
    "pd.Series([get_domain(t[0]) for t in triples]).value_counts()"
   ]
  },
  {
   "cell_type": "code",
   "execution_count": 7,
   "id": "fcf68deb",
   "metadata": {},
   "outputs": [
    {
     "data": {
      "text/plain": [
       "http://schema.org/typicalAgeRange         529\n",
       "http://schema.org/learningResourceType    403\n",
       "http://schema.org/timeRequired            361\n",
       "http://schema.org/isBasedOnUrl            344\n",
       "http://schema.org/educationalRole          55\n",
       "http://schema.org/educationalLevel         12\n",
       "http://schema.org/educationalUse            7\n",
       "http://schema.org/teaches                   7\n",
       "https://schema.org/interactivityType        6\n",
       "http://Shcema.org/isBasedOnUrl              2\n",
       "http://schema.org/educationalAlignment      2\n",
       "http://schema.org/alignmentType             2\n",
       "http://schema.org/targetName                2\n",
       "http://schema.org/interactivityType         2\n",
       "http://schema.org/assesses                  1\n",
       "http://628.1133019.com/isBasedOnUrl         1\n",
       "dtype: int64"
      ]
     },
     "execution_count": 7,
     "metadata": {},
     "output_type": "execute_result"
    }
   ],
   "source": [
    "\n",
    "pd.Series([t[1] for t in triples]).value_counts()"
   ]
  },
  {
   "cell_type": "code",
   "execution_count": 8,
   "id": "694a1d2c",
   "metadata": {},
   "outputs": [
    {
     "data": {
      "text/plain": [
       "news                                                    323\n",
       "24/24                                                   323\n",
       "14 - 65                                                 323\n",
       "18-                                                      32\n",
       "student                                                  28\n",
       "                                                       ... \n",
       "http://2014.sohu.com/20140626/n401386797.shtml            1\n",
       "http://2014.sohu.com/20131205/n399387874.shtml            1\n",
       "http://2014.sohu.com/20140618/n400980890.shtml            1\n",
       "http://2016.sohu.com/20160809/n463232848.shtml            1\n",
       "http://www.chinanews.com/ty/2016/08-13/7970993.shtml      1\n",
       "Length: 449, dtype: int64"
      ]
     },
     "execution_count": 8,
     "metadata": {},
     "output_type": "execute_result"
    }
   ],
   "source": [
    "pd.Series([t[2] for t in triples]).value_counts()"
   ]
  },
  {
   "cell_type": "code",
   "execution_count": null,
   "id": "02ebac0a",
   "metadata": {},
   "outputs": [],
   "source": []
  },
  {
   "cell_type": "code",
   "execution_count": null,
   "id": "e3898a8a",
   "metadata": {},
   "outputs": [],
   "source": []
  },
  {
   "cell_type": "code",
   "execution_count": null,
   "id": "9ef3b353",
   "metadata": {},
   "outputs": [],
   "source": []
  }
 ],
 "metadata": {
  "kernelspec": {
   "display_name": "Python 3",
   "language": "python",
   "name": "python3"
  },
  "language_info": {
   "codemirror_mode": {
    "name": "ipython",
    "version": 3
   },
   "file_extension": ".py",
   "mimetype": "text/x-python",
   "name": "python",
   "nbconvert_exporter": "python",
   "pygments_lexer": "ipython3",
   "version": "3.8.8"
  }
 },
 "nbformat": 4,
 "nbformat_minor": 5
}
