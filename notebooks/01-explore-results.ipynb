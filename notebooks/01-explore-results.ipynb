{
 "cells": [
  {
   "cell_type": "code",
   "execution_count": 37,
   "id": "8040e2ff",
   "metadata": {},
   "outputs": [],
   "source": [
    "import pandas as pd\n",
    "import seaborn as sns\n",
    "import re\n",
    "from glob import glob"
   ]
  },
  {
   "cell_type": "code",
   "execution_count": 32,
   "id": "bbcb6b1d",
   "metadata": {},
   "outputs": [],
   "source": [
    "out_files = glob('../data/lrmi-crawler-out/*.out')"
   ]
  },
  {
   "cell_type": "code",
   "execution_count": 35,
   "id": "f6c4f7e0",
   "metadata": {},
   "outputs": [],
   "source": [
    "test = 'http://11sqft.com/?tag/manclub-50k/,http://schema.org/learningResourceType,newshttp://11sqft.com/?tag/manclub-50k/,http://schema.org/timeRequired,24/24http://11sqft.com/?tag/manclub-50k/,http://schema.org/typicalAgeRange,14 - 65'"
   ]
  },
  {
   "cell_type": "code",
   "execution_count": 42,
   "id": "9627143f",
   "metadata": {},
   "outputs": [
    {
     "name": "stdout",
     "output_type": "stream",
     "text": [
      "Help on function split in module re:\n",
      "\n",
      "split(pattern, string, maxsplit=0, flags=0)\n",
      "    Split the source string by the occurrences of the pattern,\n",
      "    returning a list containing the resulting substrings.  If\n",
      "    capturing parentheses are used in pattern, then the text of all\n",
      "    groups in the pattern are also returned as part of the resulting\n",
      "    list.  If maxsplit is nonzero, at most maxsplit splits occur,\n",
      "    and the remainder of the string is returned as the final element\n",
      "    of the list.\n",
      "\n"
     ]
    }
   ],
   "source": [
    "help(re.split)"
   ]
  },
  {
   "cell_type": "code",
   "execution_count": 46,
   "id": "470a0750",
   "metadata": {},
   "outputs": [],
   "source": [
    "def split_files(f_contents):\n",
    "    outs = re.split('[^,]http', f_contents)\n",
    "    if len(outs) > 1:\n",
    "        outs = outs[:1] + ['http' + o for o in outs[1:]]\n",
    "    return outs"
   ]
  },
  {
   "cell_type": "code",
   "execution_count": 49,
   "id": "dba6ca02",
   "metadata": {},
   "outputs": [
    {
     "data": {
      "text/plain": [
       "Counter({3: 248,\n",
       "         1: 112,\n",
       "         20: 1,\n",
       "         6: 23,\n",
       "         13: 2,\n",
       "         2: 9,\n",
       "         14: 5,\n",
       "         8: 1,\n",
       "         9: 6,\n",
       "         18: 1,\n",
       "         48: 1,\n",
       "         21: 1,\n",
       "         16: 1,\n",
       "         5: 6,\n",
       "         26: 1,\n",
       "         4: 3,\n",
       "         7: 1,\n",
       "         19: 1,\n",
       "         24: 1})"
      ]
     },
     "execution_count": 49,
     "metadata": {},
     "output_type": "execute_result"
    }
   ],
   "source": [
    "from collections import Counter\n",
    "\n",
    "n = []\n",
    "\n",
    "for out_file in out_files:\n",
    "    with open(out_file, 'r') as f:\n",
    "        try:\n",
    "            content=next(f)\n",
    "            n.append(len(split_files(content)))\n",
    "        except:\n",
    "            pass\n",
    "\n",
    "Counter(n)    "
   ]
  },
  {
   "cell_type": "code",
   "execution_count": null,
   "id": "169be27c",
   "metadata": {},
   "outputs": [],
   "source": []
  }
 ],
 "metadata": {
  "kernelspec": {
   "display_name": "Python 3",
   "language": "python",
   "name": "python3"
  },
  "language_info": {
   "codemirror_mode": {
    "name": "ipython",
    "version": 3
   },
   "file_extension": ".py",
   "mimetype": "text/x-python",
   "name": "python",
   "nbconvert_exporter": "python",
   "pygments_lexer": "ipython3",
   "version": "3.8.8"
  }
 },
 "nbformat": 4,
 "nbformat_minor": 5
}
