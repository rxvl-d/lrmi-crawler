{
 "cells": [
  {
   "cell_type": "code",
   "execution_count": 8,
   "id": "6aa30f83",
   "metadata": {},
   "outputs": [],
   "source": [
    "from glob import glob\n",
    "import pandas as pd"
   ]
  },
  {
   "cell_type": "code",
   "execution_count": 9,
   "id": "eca21939",
   "metadata": {},
   "outputs": [],
   "source": [
    "files = glob('../data/out/**/*.nq')"
   ]
  },
  {
   "cell_type": "code",
   "execution_count": 10,
   "id": "1c50ca01",
   "metadata": {},
   "outputs": [
    {
     "data": {
      "text/plain": [
       "194"
      ]
     },
     "execution_count": 10,
     "metadata": {},
     "output_type": "execute_result"
    }
   ],
   "source": [
    "len(files)"
   ]
  },
  {
   "cell_type": "code",
   "execution_count": 11,
   "id": "b871a0d4",
   "metadata": {},
   "outputs": [
    {
     "data": {
      "text/plain": [
       "['../data/out/2019/dpef.html-mf-hcard.nq-01058.nq',\n",
       " '../data/out/2019/dpef.html-mf-hcard.nq-00689.nq']"
      ]
     },
     "execution_count": 11,
     "metadata": {},
     "output_type": "execute_result"
    }
   ],
   "source": [
    "files[:2]"
   ]
  },
  {
   "cell_type": "code",
   "execution_count": 13,
   "id": "483c0477",
   "metadata": {},
   "outputs": [],
   "source": [
    "files = pd.DataFrame([(f, int(f.split('/')[3]), f.split('/')[4].replace('.nq', '')) for f in files], \n",
    "             columns=['path', 'year', 'id'])"
   ]
  },
  {
   "cell_type": "code",
   "execution_count": 14,
   "id": "a70dcb2b",
   "metadata": {},
   "outputs": [
    {
     "data": {
      "text/plain": [
       "2019    106\n",
       "2020     66\n",
       "2021     22\n",
       "Name: year, dtype: int64"
      ]
     },
     "execution_count": 14,
     "metadata": {},
     "output_type": "execute_result"
    }
   ],
   "source": [
    "files.year.value_counts()"
   ]
  },
  {
   "cell_type": "code",
   "execution_count": 16,
   "id": "e296a0cd",
   "metadata": {},
   "outputs": [],
   "source": [
    "def line_count(fpath):\n",
    "    with open(fpath) as f:\n",
    "        return len(list(f))\n",
    "\n",
    "files['line_count'] = [line_count(f) for f in files.path]"
   ]
  },
  {
   "cell_type": "code",
   "execution_count": 27,
   "id": "3af2e4c7",
   "metadata": {},
   "outputs": [],
   "source": [
    "files['has_nq'] = files.line_count != 0"
   ]
  },
  {
   "cell_type": "code",
   "execution_count": 28,
   "id": "7c05834c",
   "metadata": {},
   "outputs": [
    {
     "data": {
      "text/plain": [
       "<AxesSubplot: >"
      ]
     },
     "execution_count": 28,
     "metadata": {},
     "output_type": "execute_result"
    },
    {
     "data": {
      "image/png": "[encoded data removed]",
      "text/plain": [
       "<Figure size 640x480 with 1 Axes>"
      ]
     },
     "metadata": {},
     "output_type": "display_data"
    }
   ],
   "source": [
    "files[files.has_nq].line_count.hist()"
   ]
  },
  {
   "cell_type": "code",
   "execution_count": 38,
   "id": "65b91626",
   "metadata": {},
   "outputs": [
    {
     "ename": "KeyError",
     "evalue": "11",
     "output_type": "error",
     "traceback": [
      "\u001b[0;31m---------------------------------------------------------------------------\u001b[0m",
      "\u001b[0;31mKeyError\u001b[0m                                  Traceback (most recent call last)",
      "Cell \u001b[0;32mIn[38], line 10\u001b[0m\n\u001b[1;32m      6\u001b[0m             part_count[\u001b[38;5;28mlen\u001b[39m(parts)] \u001b[38;5;241m+\u001b[39m\u001b[38;5;241m=\u001b[39m \u001b[38;5;241m1\u001b[39m\n\u001b[1;32m      8\u001b[0m         \u001b[38;5;28;01mreturn\u001b[39;00m fpath, part_count\n\u001b[0;32m---> 10\u001b[0m [error_count(f) \u001b[38;5;28;01mfor\u001b[39;00m f \u001b[38;5;129;01min\u001b[39;00m files[files\u001b[38;5;241m.\u001b[39mhas_nq]\u001b[38;5;241m.\u001b[39mpath]\n",
      "Cell \u001b[0;32mIn[38], line 10\u001b[0m, in \u001b[0;36m<listcomp>\u001b[0;34m(.0)\u001b[0m\n\u001b[1;32m      6\u001b[0m             part_count[\u001b[38;5;28mlen\u001b[39m(parts)] \u001b[38;5;241m+\u001b[39m\u001b[38;5;241m=\u001b[39m \u001b[38;5;241m1\u001b[39m\n\u001b[1;32m      8\u001b[0m         \u001b[38;5;28;01mreturn\u001b[39;00m fpath, part_count\n\u001b[0;32m---> 10\u001b[0m [\u001b[43merror_count\u001b[49m\u001b[43m(\u001b[49m\u001b[43mf\u001b[49m\u001b[43m)\u001b[49m \u001b[38;5;28;01mfor\u001b[39;00m f \u001b[38;5;129;01min\u001b[39;00m files[files\u001b[38;5;241m.\u001b[39mhas_nq]\u001b[38;5;241m.\u001b[39mpath]\n",
      "Cell \u001b[0;32mIn[38], line 6\u001b[0m, in \u001b[0;36merror_count\u001b[0;34m(fpath)\u001b[0m\n\u001b[1;32m      4\u001b[0m \u001b[38;5;28;01mfor\u001b[39;00m l \u001b[38;5;129;01min\u001b[39;00m f:\n\u001b[1;32m      5\u001b[0m     parts \u001b[38;5;241m=\u001b[39m l\u001b[38;5;241m.\u001b[39msplit(\u001b[38;5;124m'\u001b[39m\u001b[38;5;130;01m\\t\u001b[39;00m\u001b[38;5;124m'\u001b[39m)\n\u001b[0;32m----> 6\u001b[0m     part_count[\u001b[38;5;28mlen\u001b[39m(parts)] \u001b[38;5;241m+\u001b[39m\u001b[38;5;241m=\u001b[39m \u001b[38;5;241m1\u001b[39m\n\u001b[1;32m      8\u001b[0m \u001b[38;5;28;01mreturn\u001b[39;00m fpath, part_count\n",
      "\u001b[0;31mKeyError\u001b[0m: 11"
     ]
    }
   ],
   "source": [
    "def error_count(fpath):\n",
    "    with open(fpath) as f:\n",
    "        part_count = {k: 0 for k in range(6)}\n",
    "        for l in f:\n",
    "            parts = l.split('\\t')\n",
    "            part_count[len(parts)] += 1\n",
    "            \n",
    "        return fpath, part_count\n",
    "\n",
    "[error_count(f) for f in files[files.has_nq].path]"
   ]
  },
  {
   "cell_type": "code",
   "execution_count": 33,
   "id": "6932956c",
   "metadata": {},
   "outputs": [
    {
     "ename": "AssertionError",
     "evalue": "found 1 in By Jack Barnes\n",
     "output_type": "error",
     "traceback": [
      "\u001b[0;31m---------------------------------------------------------------------------\u001b[0m",
      "\u001b[0;31mAssertionError\u001b[0m                            Traceback (most recent call last)",
      "Cell \u001b[0;32mIn[33], line 10\u001b[0m\n\u001b[1;32m      7\u001b[0m             subjects\u001b[38;5;241m.\u001b[39mappend(parts[\u001b[38;5;241m0\u001b[39m])\n\u001b[1;32m      8\u001b[0m         \u001b[38;5;28;01mreturn\u001b[39;00m \u001b[38;5;28mlen\u001b[39m(\u001b[38;5;28mset\u001b[39m(subjects))\n\u001b[0;32m---> 10\u001b[0m [subject_count(f) \u001b[38;5;28;01mfor\u001b[39;00m f \u001b[38;5;129;01min\u001b[39;00m files[files\u001b[38;5;241m.\u001b[39mhas_nq]\u001b[38;5;241m.\u001b[39mpath]\n",
      "Cell \u001b[0;32mIn[33], line 10\u001b[0m, in \u001b[0;36m<listcomp>\u001b[0;34m(.0)\u001b[0m\n\u001b[1;32m      7\u001b[0m             subjects\u001b[38;5;241m.\u001b[39mappend(parts[\u001b[38;5;241m0\u001b[39m])\n\u001b[1;32m      8\u001b[0m         \u001b[38;5;28;01mreturn\u001b[39;00m \u001b[38;5;28mlen\u001b[39m(\u001b[38;5;28mset\u001b[39m(subjects))\n\u001b[0;32m---> 10\u001b[0m [\u001b[43msubject_count\u001b[49m\u001b[43m(\u001b[49m\u001b[43mf\u001b[49m\u001b[43m)\u001b[49m \u001b[38;5;28;01mfor\u001b[39;00m f \u001b[38;5;129;01min\u001b[39;00m files[files\u001b[38;5;241m.\u001b[39mhas_nq]\u001b[38;5;241m.\u001b[39mpath]\n",
      "Cell \u001b[0;32mIn[33], line 6\u001b[0m, in \u001b[0;36msubject_count\u001b[0;34m(fpath)\u001b[0m\n\u001b[1;32m      4\u001b[0m \u001b[38;5;28;01mfor\u001b[39;00m l \u001b[38;5;129;01min\u001b[39;00m f:\n\u001b[1;32m      5\u001b[0m     parts \u001b[38;5;241m=\u001b[39m l\u001b[38;5;241m.\u001b[39msplit(\u001b[38;5;124m'\u001b[39m\u001b[38;5;130;01m\\t\u001b[39;00m\u001b[38;5;124m'\u001b[39m)\n\u001b[0;32m----> 6\u001b[0m     \u001b[38;5;28;01massert\u001b[39;00m \u001b[38;5;28mlen\u001b[39m(parts) \u001b[38;5;241m>\u001b[39m\u001b[38;5;241m=\u001b[39m \u001b[38;5;241m3\u001b[39m, \u001b[38;5;124mf\u001b[39m\u001b[38;5;124m'\u001b[39m\u001b[38;5;124mfound \u001b[39m\u001b[38;5;132;01m{\u001b[39;00m\u001b[38;5;28mlen\u001b[39m(parts)\u001b[38;5;132;01m}\u001b[39;00m\u001b[38;5;124m in \u001b[39m\u001b[38;5;132;01m{\u001b[39;00ml\u001b[38;5;132;01m}\u001b[39;00m\u001b[38;5;124m'\u001b[39m\n\u001b[1;32m      7\u001b[0m     subjects\u001b[38;5;241m.\u001b[39mappend(parts[\u001b[38;5;241m0\u001b[39m])\n\u001b[1;32m      8\u001b[0m \u001b[38;5;28;01mreturn\u001b[39;00m \u001b[38;5;28mlen\u001b[39m(\u001b[38;5;28mset\u001b[39m(subjects))\n",
      "\u001b[0;31mAssertionError\u001b[0m: found 1 in By Jack Barnes\n"
     ]
    }
   ],
   "source": [
    "def subject_count(fpath):\n",
    "    with open(fpath) as f:\n",
    "        subjects = []\n",
    "        for l in f:\n",
    "            parts = l.split('\\t')\n",
    "            if len(parts) >= 3, f'found {len(parts)} in {l}'\n",
    "            subjects.append(parts[0])\n",
    "        return len(set(subjects))\n",
    "\n",
    "[subject_count(f) for f in files[files.has_nq].path]"
   ]
  },
  {
   "cell_type": "code",
   "execution_count": null,
   "id": "eb9aea75",
   "metadata": {},
   "outputs": [],
   "source": []
  }
 ],
 "metadata": {
  "kernelspec": {
   "display_name": "Python 3 (ipykernel)",
   "language": "python",
   "name": "python3"
  },
  "language_info": {
   "codemirror_mode": {
    "name": "ipython",
    "version": 3
   },
   "file_extension": ".py",
   "mimetype": "text/x-python",
   "name": "python",
   "nbconvert_exporter": "python",
   "pygments_lexer": "ipython3",
   "version": "3.8.16"
  }
 },
 "nbformat": 4,
 "nbformat_minor": 5
}
