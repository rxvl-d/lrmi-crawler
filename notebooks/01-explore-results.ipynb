{
 "cells": [
  {
   "cell_type": "code",
   "execution_count": 67,
   "id": "8040e2ff",
   "metadata": {},
   "outputs": [],
   "source": [
    "import pandas as pd\n",
    "import seaborn as sns\n",
    "import re\n",
    "from glob import glob"
   ]
  },
  {
   "cell_type": "code",
   "execution_count": 68,
   "id": "bbcb6b1d",
   "metadata": {},
   "outputs": [],
   "source": [
    "out_files = glob('../data/lrmi-crawler-out/*.out')"
   ]
  },
  {
   "cell_type": "code",
   "execution_count": 75,
   "id": "9bcd3f73",
   "metadata": {},
   "outputs": [],
   "source": [
    "triples = []\n",
    "for out_file in out_files:\n",
    "    with open(out_file, 'r') as f:\n",
    "        for l in f:\n",
    "            triples.append(l[:-1].split(','))"
   ]
  },
  {
   "cell_type": "code",
   "execution_count": 76,
   "id": "6b43eeea",
   "metadata": {},
   "outputs": [
    {
     "data": {
      "text/plain": [
       "454"
      ]
     },
     "execution_count": 76,
     "metadata": {},
     "output_type": "execute_result"
    }
   ],
   "source": [
    "len(triples)"
   ]
  },
  {
   "cell_type": "code",
   "execution_count": 77,
   "id": "b765c7a5",
   "metadata": {},
   "outputs": [],
   "source": [
    "def get_domain(s):\n",
    "    matches = re.match('http.*://(.*?)/.*', s)\n",
    "    if matches:\n",
    "        return matches.groups(0)[0]\n",
    "    else:\n",
    "        return None"
   ]
  },
  {
   "cell_type": "code",
   "execution_count": 78,
   "id": "169be27c",
   "metadata": {},
   "outputs": [
    {
     "data": {
      "text/plain": [
       "Counter({'archive.d-academy.com.ua': 3,\n",
       "         '2016.sohu.com': 13,\n",
       "         '11sqft.com': 438})"
      ]
     },
     "execution_count": 78,
     "metadata": {},
     "output_type": "execute_result"
    }
   ],
   "source": [
    "\n",
    "Counter([get_domain(t[0]) for t in triples])"
   ]
  },
  {
   "cell_type": "code",
   "execution_count": 79,
   "id": "b2476e74",
   "metadata": {},
   "outputs": [
    {
     "data": {
      "text/plain": [
       "Counter({'http://schema.org/educationalLevel': 3,\n",
       "         'http://schema.org/isBasedOnUrl': 13,\n",
       "         'http://schema.org/learningResourceType': 146,\n",
       "         'http://schema.org/timeRequired': 146,\n",
       "         'http://schema.org/typicalAgeRange': 146})"
      ]
     },
     "execution_count": 79,
     "metadata": {},
     "output_type": "execute_result"
    }
   ],
   "source": [
    "\n",
    "Counter([t[1] for t in triples])"
   ]
  },
  {
   "cell_type": "code",
   "execution_count": 80,
   "id": "cf16c249",
   "metadata": {},
   "outputs": [
    {
     "data": {
      "text/plain": [
       "Counter({'nc325c56c173c4c35a4698e9596712698xb2': 1,\n",
       "         'http://2016.sohu.com/20160811/n463790647.shtml': 1,\n",
       "         'news': 146,\n",
       "         '24/24': 146,\n",
       "         '14 - 65': 146,\n",
       "         'nf60c6ab7aae04a12a76247104c70b499xb3': 1,\n",
       "         'http://2016.sohu.com/20160808/n463037851.shtml': 1,\n",
       "         'http://2016.sohu.com/20160803/n462309317.shtml': 1,\n",
       "         'http://2016.sohu.com/20160813/n464012772.shtml': 1,\n",
       "         'http://2016.sohu.com/20160815/n464274512.shtml': 1,\n",
       "         'http://2016.sohu.com/20160809/n463232848.shtml': 1,\n",
       "         'http://2016.sohu.com/20160808/n463037025.shtml': 1,\n",
       "         'http://2016.sohu.com/20160811/n463738436.shtml': 1,\n",
       "         'http://2016.sohu.com/20160809/n463275649.shtml': 1,\n",
       "         'http://2016.sohu.com/20160821/n465251962.shtml': 1,\n",
       "         'http://2016.sohu.com/20160810/n463429763.shtml': 1,\n",
       "         'n24df37ade45f452eb9a192b2b3825995xb3': 1,\n",
       "         'http://2016.sohu.com/20160809/n463229634.shtml': 1,\n",
       "         'http://2016.sohu.com/20160811/n463653070.shtml': 1})"
      ]
     },
     "execution_count": 80,
     "metadata": {},
     "output_type": "execute_result"
    }
   ],
   "source": [
    "Counter([t[2] for t in triples])"
   ]
  },
  {
   "cell_type": "code",
   "execution_count": null,
   "id": "5a8cb123",
   "metadata": {},
   "outputs": [],
   "source": []
  }
 ],
 "metadata": {
  "kernelspec": {
   "display_name": "Python 3",
   "language": "python",
   "name": "python3"
  },
  "language_info": {
   "codemirror_mode": {
    "name": "ipython",
    "version": 3
   },
   "file_extension": ".py",
   "mimetype": "text/x-python",
   "name": "python",
   "nbconvert_exporter": "python",
   "pygments_lexer": "ipython3",
   "version": "3.8.8"
  }
 },
 "nbformat": 4,
 "nbformat_minor": 5
}
