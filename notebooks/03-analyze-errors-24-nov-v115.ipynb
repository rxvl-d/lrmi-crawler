{
 "cells": [
  {
   "cell_type": "code",
   "execution_count": 1,
   "id": "dfbf581e",
   "metadata": {},
   "outputs": [],
   "source": [
    "from glob import glob\n",
    "import re\n",
    "from matplotlib import pyplot as plt\n",
    "from dateutil.parser import parse\n",
    "import pandas as pd"
   ]
  },
  {
   "cell_type": "code",
   "execution_count": 2,
   "id": "efed7abc",
   "metadata": {},
   "outputs": [],
   "source": [
    "error_file_lines = dict()\n",
    "for error_file in glob('../data/second-proc-only-run/err_*.log'):\n",
    "    year = error_file.split('_')[1].split('.')[0]\n",
    "    with open(error_file) as f:\n",
    "        error_file_lines[year] = list(f)"
   ]
  },
  {
   "cell_type": "code",
   "execution_count": 3,
   "id": "e4fd280f",
   "metadata": {},
   "outputs": [],
   "source": [
    "out_file_lines = dict()\n",
    "for out_file in glob('../data/second-proc-only-run/output_*.log'):\n",
    "    year = out_file.split('_')[1].split('.')[0]\n",
    "    with open(out_file) as f:\n",
    "        out_file_lines[year] = list(f)"
   ]
  },
  {
   "cell_type": "code",
   "execution_count": 4,
   "id": "feeea3e9",
   "metadata": {},
   "outputs": [],
   "source": [
    "def split_err_lines(lines):\n",
    "    incorrect_lines = []\n",
    "    cached_lines = []\n",
    "    duration_lines = []\n",
    "    other_lines = []\n",
    "    error_lines = []\n",
    "    for l in lines:\n",
    "        if 'Incorrect' in l:\n",
    "            incorrect_lines.append(l)\n",
    "        elif (' took ' in l):\n",
    "            duration_lines.append(l)\n",
    "        elif ('Skipping' in l) and ('cached' in l):\n",
    "            cached_lines.append(l)\n",
    "        elif ('Skipping' in l) and ('Error' in l):\n",
    "            error_lines.append(l)\n",
    "        else:\n",
    "            other_lines.append(l)\n",
    "#     assert len(other_lines) <= 2, len(other_lines)\n",
    "    return incorrect_lines, duration_lines, cached_lines, error_lines, other_lines"
   ]
  },
  {
   "cell_type": "code",
   "execution_count": 5,
   "id": "a932b5e7",
   "metadata": {},
   "outputs": [],
   "source": [
    "def split_out_lines(lines):\n",
    "    progress_lines = []\n",
    "    other_lines = []\n",
    "    for l in lines:\n",
    "        if 'Estimated' in l:\n",
    "            progress_lines.append(l)\n",
    "        else:\n",
    "            other_lines.append(l)\n",
    "    assert len(other_lines) <= 2, str(len(other_lines))\n",
    "    return progress_lines, other_lines"
   ]
  },
  {
   "cell_type": "code",
   "execution_count": 6,
   "id": "f8425157",
   "metadata": {},
   "outputs": [],
   "source": [
    "incorrect_lines_19, duration_lines_19, cached_lines_19, error_lines_19, other_19 = \\\n",
    "    split_err_lines(error_file_lines['19'])\n",
    "incorrect_lines_20, duration_lines_20, cached_lines_20, error_lines_20, other_20 = \\\n",
    "    split_err_lines(error_file_lines['20'])\n",
    "incorrect_lines_21, duration_lines_21, cached_lines_21, error_lines_21, other_21 = \\\n",
    "    split_err_lines(error_file_lines['21'])\n",
    "progress_lines_19, other_19 = split_out_lines(out_file_lines['19'])\n",
    "progress_lines_20, other_20 = split_out_lines(out_file_lines['20'])\n",
    "progress_lines_21, other_21 = split_out_lines(out_file_lines['21'])"
   ]
  },
  {
   "cell_type": "code",
   "execution_count": 7,
   "id": "e19459e3",
   "metadata": {},
   "outputs": [],
   "source": [
    "def file_num_vs_time_left(progress_lines):\n",
    "    n = []\n",
    "    etas = []\n",
    "    ts = []\n",
    "    for l in progress_lines:\n",
    "        match = re.match('^\\[(.+)\\] ([0-9]+)/.+in: ([0-9]+\\.[0-9]+) hours.+$', l)\n",
    "        if match:\n",
    "            t, i, eta = match.groups()\n",
    "            t = parse(t)\n",
    "            n.append(int(i))\n",
    "            etas.append(float(eta))\n",
    "            ts.append(t)\n",
    "    plt.scatter(ts, etas)"
   ]
  },
  {
   "cell_type": "markdown",
   "id": "3bcab5b6",
   "metadata": {},
   "source": [
    "### Progress"
   ]
  },
  {
   "cell_type": "code",
   "execution_count": 8,
   "id": "cb329815",
   "metadata": {},
   "outputs": [
    {
     "data": {
      "text/plain": [
       "[4054, 4425, 2771]"
      ]
     },
     "execution_count": 8,
     "metadata": {},
     "output_type": "execute_result"
    }
   ],
   "source": [
    "[len(starts) for starts in [progress_lines_19, progress_lines_20, progress_lines_21]]"
   ]
  },
  {
   "cell_type": "code",
   "execution_count": 9,
   "id": "341b8866",
   "metadata": {},
   "outputs": [
    {
     "data": {
      "image/png": "[encoded data removed]",
      "text/plain": [
       "<Figure size 432x288 with 1 Axes>"
      ]
     },
     "metadata": {
      "needs_background": "light"
     },
     "output_type": "display_data"
    }
   ],
   "source": [
    "file_num_vs_time_left(progress_lines_19)"
   ]
  },
  {
   "cell_type": "code",
   "execution_count": 10,
   "id": "b3e851b0",
   "metadata": {},
   "outputs": [
    {
     "data": {
      "image/png": "[encoded data removed]",
      "text/plain": [
       "<Figure size 432x288 with 1 Axes>"
      ]
     },
     "metadata": {
      "needs_background": "light"
     },
     "output_type": "display_data"
    }
   ],
   "source": [
    "file_num_vs_time_left(progress_lines_20)"
   ]
  },
  {
   "cell_type": "code",
   "execution_count": 11,
   "id": "984aada7",
   "metadata": {},
   "outputs": [
    {
     "data": {
      "image/png": "[encoded data removed]",
      "text/plain": [
       "<Figure size 432x288 with 1 Axes>"
      ]
     },
     "metadata": {
      "needs_background": "light"
     },
     "output_type": "display_data"
    }
   ],
   "source": [
    "file_num_vs_time_left(progress_lines_21)"
   ]
  },
  {
   "cell_type": "markdown",
   "id": "530f9eeb",
   "metadata": {},
   "source": [
    "### Durations"
   ]
  },
  {
   "cell_type": "code",
   "execution_count": 138,
   "id": "36bb6949",
   "metadata": {},
   "outputs": [
    {
     "ename": "ValueError",
     "evalue": "Shape of passed values is (3981, 3), indices imply (3, 3)",
     "output_type": "error",
     "traceback": [
      "\u001b[0;31m-----------------------------------------------------------------------\u001b[0m",
      "\u001b[0;31mValueError\u001b[0m                            Traceback (most recent call last)",
      "\u001b[0;32m~/.anaconda3/lib/python3.8/site-packages/pandas/core/internals/managers.py\u001b[0m in \u001b[0;36mcreate_block_manager_from_arrays\u001b[0;34m(arrays, names, axes, consolidate)\u001b[0m\n\u001b[1;32m   1773\u001b[0m         \u001b[0mblocks\u001b[0m \u001b[0;34m=\u001b[0m \u001b[0m_form_blocks\u001b[0m\u001b[0;34m(\u001b[0m\u001b[0marrays\u001b[0m\u001b[0;34m,\u001b[0m \u001b[0mnames\u001b[0m\u001b[0;34m,\u001b[0m \u001b[0maxes\u001b[0m\u001b[0;34m,\u001b[0m \u001b[0mconsolidate\u001b[0m\u001b[0;34m)\u001b[0m\u001b[0;34m\u001b[0m\u001b[0;34m\u001b[0m\u001b[0m\n\u001b[0;32m-> 1774\u001b[0;31m         \u001b[0mmgr\u001b[0m \u001b[0;34m=\u001b[0m \u001b[0mBlockManager\u001b[0m\u001b[0;34m(\u001b[0m\u001b[0mblocks\u001b[0m\u001b[0;34m,\u001b[0m \u001b[0maxes\u001b[0m\u001b[0;34m)\u001b[0m\u001b[0;34m\u001b[0m\u001b[0;34m\u001b[0m\u001b[0m\n\u001b[0m\u001b[1;32m   1775\u001b[0m     \u001b[0;32mexcept\u001b[0m \u001b[0mValueError\u001b[0m \u001b[0;32mas\u001b[0m \u001b[0me\u001b[0m\u001b[0;34m:\u001b[0m\u001b[0;34m\u001b[0m\u001b[0;34m\u001b[0m\u001b[0m\n",
      "\u001b[0;32m~/.anaconda3/lib/python3.8/site-packages/pandas/core/internals/managers.py\u001b[0m in \u001b[0;36m__init__\u001b[0;34m(self, blocks, axes, verify_integrity)\u001b[0m\n\u001b[1;32m    913\u001b[0m \u001b[0;34m\u001b[0m\u001b[0m\n\u001b[0;32m--> 914\u001b[0;31m             \u001b[0mself\u001b[0m\u001b[0;34m.\u001b[0m\u001b[0m_verify_integrity\u001b[0m\u001b[0;34m(\u001b[0m\u001b[0;34m)\u001b[0m\u001b[0;34m\u001b[0m\u001b[0;34m\u001b[0m\u001b[0m\n\u001b[0m\u001b[1;32m    915\u001b[0m \u001b[0;34m\u001b[0m\u001b[0m\n",
      "\u001b[0;32m~/.anaconda3/lib/python3.8/site-packages/pandas/core/internals/managers.py\u001b[0m in \u001b[0;36m_verify_integrity\u001b[0;34m(self)\u001b[0m\n\u001b[1;32m    920\u001b[0m             \u001b[0;32mif\u001b[0m \u001b[0mblock\u001b[0m\u001b[0;34m.\u001b[0m\u001b[0mshape\u001b[0m\u001b[0;34m[\u001b[0m\u001b[0;36m1\u001b[0m\u001b[0;34m:\u001b[0m\u001b[0;34m]\u001b[0m \u001b[0;34m!=\u001b[0m \u001b[0mmgr_shape\u001b[0m\u001b[0;34m[\u001b[0m\u001b[0;36m1\u001b[0m\u001b[0;34m:\u001b[0m\u001b[0;34m]\u001b[0m\u001b[0;34m:\u001b[0m\u001b[0;34m\u001b[0m\u001b[0;34m\u001b[0m\u001b[0m\n\u001b[0;32m--> 921\u001b[0;31m                 \u001b[0;32mraise\u001b[0m \u001b[0mconstruction_error\u001b[0m\u001b[0;34m(\u001b[0m\u001b[0mtot_items\u001b[0m\u001b[0;34m,\u001b[0m \u001b[0mblock\u001b[0m\u001b[0;34m.\u001b[0m\u001b[0mshape\u001b[0m\u001b[0;34m[\u001b[0m\u001b[0;36m1\u001b[0m\u001b[0;34m:\u001b[0m\u001b[0;34m]\u001b[0m\u001b[0;34m,\u001b[0m \u001b[0mself\u001b[0m\u001b[0;34m.\u001b[0m\u001b[0maxes\u001b[0m\u001b[0;34m)\u001b[0m\u001b[0;34m\u001b[0m\u001b[0;34m\u001b[0m\u001b[0m\n\u001b[0m\u001b[1;32m    922\u001b[0m         \u001b[0;32mif\u001b[0m \u001b[0mlen\u001b[0m\u001b[0;34m(\u001b[0m\u001b[0mself\u001b[0m\u001b[0;34m.\u001b[0m\u001b[0mitems\u001b[0m\u001b[0;34m)\u001b[0m \u001b[0;34m!=\u001b[0m \u001b[0mtot_items\u001b[0m\u001b[0;34m:\u001b[0m\u001b[0;34m\u001b[0m\u001b[0;34m\u001b[0m\u001b[0m\n",
      "\u001b[0;31mValueError\u001b[0m: Shape of passed values is (3981, 3), indices imply (3, 3)",
      "\nDuring handling of the above exception, another exception occurred:\n",
      "\u001b[0;31mValueError\u001b[0m                            Traceback (most recent call last)",
      "\u001b[0;32m<ipython-input-138-482b69d425f0>\u001b[0m in \u001b[0;36m<module>\u001b[0;34m\u001b[0m\n\u001b[1;32m      3\u001b[0m     durations_data += [(y, l.split(' ')[0].split('/')[-1], \n\u001b[1;32m      4\u001b[0m         int(l.split(' ')[-1].replace('\\n', ''))) for l in duration_lines]\n\u001b[0;32m----> 5\u001b[0;31m \u001b[0mdurations_df\u001b[0m \u001b[0;34m=\u001b[0m \u001b[0mpd\u001b[0m\u001b[0;34m.\u001b[0m\u001b[0mDataFrame\u001b[0m\u001b[0;34m(\u001b[0m\u001b[0mdurations_data\u001b[0m\u001b[0;34m,\u001b[0m \u001b[0;34m[\u001b[0m\u001b[0;34m'year'\u001b[0m\u001b[0;34m,\u001b[0m \u001b[0;34m'file'\u001b[0m\u001b[0;34m,\u001b[0m \u001b[0;34m'duration'\u001b[0m\u001b[0;34m]\u001b[0m\u001b[0;34m)\u001b[0m\u001b[0;34m\u001b[0m\u001b[0;34m\u001b[0m\u001b[0m\n\u001b[0m\u001b[1;32m      6\u001b[0m \u001b[0mdurations_df\u001b[0m\u001b[0;34m[\u001b[0m\u001b[0;34m'file_type'\u001b[0m\u001b[0;34m]\u001b[0m \u001b[0;34m=\u001b[0m \u001b[0mdurations_df\u001b[0m\u001b[0;34m.\u001b[0m\u001b[0mfile\u001b[0m\u001b[0;34m.\u001b[0m\u001b[0mstr\u001b[0m\u001b[0;34m.\u001b[0m\u001b[0mextract\u001b[0m\u001b[0;34m(\u001b[0m\u001b[0;34m'dpef.html-([a-z-]+)\\.nq-[0-9]+\\.gz'\u001b[0m\u001b[0;34m)\u001b[0m\u001b[0;34m[\u001b[0m\u001b[0;36m0\u001b[0m\u001b[0;34m]\u001b[0m\u001b[0;34m\u001b[0m\u001b[0;34m\u001b[0m\u001b[0m\n",
      "\u001b[0;32m~/.anaconda3/lib/python3.8/site-packages/pandas/core/frame.py\u001b[0m in \u001b[0;36m__init__\u001b[0;34m(self, data, index, columns, dtype, copy)\u001b[0m\n\u001b[1;32m    700\u001b[0m                         \u001b[0mdtype\u001b[0m\u001b[0;34m,\u001b[0m\u001b[0;34m\u001b[0m\u001b[0;34m\u001b[0m\u001b[0m\n\u001b[1;32m    701\u001b[0m                     )\n\u001b[0;32m--> 702\u001b[0;31m                     mgr = arrays_to_mgr(\n\u001b[0m\u001b[1;32m    703\u001b[0m                         \u001b[0marrays\u001b[0m\u001b[0;34m,\u001b[0m\u001b[0;34m\u001b[0m\u001b[0;34m\u001b[0m\u001b[0m\n\u001b[1;32m    704\u001b[0m                         \u001b[0mcolumns\u001b[0m\u001b[0;34m,\u001b[0m\u001b[0;34m\u001b[0m\u001b[0;34m\u001b[0m\u001b[0m\n",
      "\u001b[0;32m~/.anaconda3/lib/python3.8/site-packages/pandas/core/internals/construction.py\u001b[0m in \u001b[0;36marrays_to_mgr\u001b[0;34m(arrays, arr_names, index, columns, dtype, verify_integrity, typ, consolidate)\u001b[0m\n\u001b[1;32m    133\u001b[0m \u001b[0;34m\u001b[0m\u001b[0m\n\u001b[1;32m    134\u001b[0m     \u001b[0;32mif\u001b[0m \u001b[0mtyp\u001b[0m \u001b[0;34m==\u001b[0m \u001b[0;34m\"block\"\u001b[0m\u001b[0;34m:\u001b[0m\u001b[0;34m\u001b[0m\u001b[0;34m\u001b[0m\u001b[0m\n\u001b[0;32m--> 135\u001b[0;31m         return create_block_manager_from_arrays(\n\u001b[0m\u001b[1;32m    136\u001b[0m             \u001b[0marrays\u001b[0m\u001b[0;34m,\u001b[0m \u001b[0marr_names\u001b[0m\u001b[0;34m,\u001b[0m \u001b[0maxes\u001b[0m\u001b[0;34m,\u001b[0m \u001b[0mconsolidate\u001b[0m\u001b[0;34m=\u001b[0m\u001b[0mconsolidate\u001b[0m\u001b[0;34m\u001b[0m\u001b[0;34m\u001b[0m\u001b[0m\n\u001b[1;32m    137\u001b[0m         )\n",
      "\u001b[0;32m~/.anaconda3/lib/python3.8/site-packages/pandas/core/internals/managers.py\u001b[0m in \u001b[0;36mcreate_block_manager_from_arrays\u001b[0;34m(arrays, names, axes, consolidate)\u001b[0m\n\u001b[1;32m   1774\u001b[0m         \u001b[0mmgr\u001b[0m \u001b[0;34m=\u001b[0m \u001b[0mBlockManager\u001b[0m\u001b[0;34m(\u001b[0m\u001b[0mblocks\u001b[0m\u001b[0;34m,\u001b[0m \u001b[0maxes\u001b[0m\u001b[0;34m)\u001b[0m\u001b[0;34m\u001b[0m\u001b[0;34m\u001b[0m\u001b[0m\n\u001b[1;32m   1775\u001b[0m     \u001b[0;32mexcept\u001b[0m \u001b[0mValueError\u001b[0m \u001b[0;32mas\u001b[0m \u001b[0me\u001b[0m\u001b[0;34m:\u001b[0m\u001b[0;34m\u001b[0m\u001b[0;34m\u001b[0m\u001b[0m\n\u001b[0;32m-> 1776\u001b[0;31m         \u001b[0;32mraise\u001b[0m \u001b[0mconstruction_error\u001b[0m\u001b[0;34m(\u001b[0m\u001b[0mlen\u001b[0m\u001b[0;34m(\u001b[0m\u001b[0marrays\u001b[0m\u001b[0;34m)\u001b[0m\u001b[0;34m,\u001b[0m \u001b[0marrays\u001b[0m\u001b[0;34m[\u001b[0m\u001b[0;36m0\u001b[0m\u001b[0;34m]\u001b[0m\u001b[0;34m.\u001b[0m\u001b[0mshape\u001b[0m\u001b[0;34m,\u001b[0m \u001b[0maxes\u001b[0m\u001b[0;34m,\u001b[0m \u001b[0me\u001b[0m\u001b[0;34m)\u001b[0m\u001b[0;34m\u001b[0m\u001b[0;34m\u001b[0m\u001b[0m\n\u001b[0m\u001b[1;32m   1777\u001b[0m     \u001b[0;32mif\u001b[0m \u001b[0mconsolidate\u001b[0m\u001b[0;34m:\u001b[0m\u001b[0;34m\u001b[0m\u001b[0;34m\u001b[0m\u001b[0m\n\u001b[1;32m   1778\u001b[0m         \u001b[0mmgr\u001b[0m\u001b[0;34m.\u001b[0m\u001b[0m_consolidate_inplace\u001b[0m\u001b[0;34m(\u001b[0m\u001b[0;34m)\u001b[0m\u001b[0;34m\u001b[0m\u001b[0;34m\u001b[0m\u001b[0m\n",
      "\u001b[0;31mValueError\u001b[0m: Shape of passed values is (3981, 3), indices imply (3, 3)"
     ]
    }
   ],
   "source": [
    "durations_data = []\n",
    "for y, duration_lines in [(19, duration_lines_19), (20, duration_lines_20),(21, duration_lines_21)]:\n",
    "    durations_data += [(\n",
    "        y, \n",
    "        l.split(' ')[0].split('/')[-1], \n",
    "        int(l.split(' ')[-1].replace('\\n', ''))) \n",
    "        for l in duration_lines]\n",
    "durations_df = pd.DataFrame(durations_data, ['year', 'file', 'duration'])\n",
    "durations_df['file_type'] = durations_df.file.str.extract('dpef.html-([a-z-]+)\\.nq-[0-9]+\\.gz')[0]"
   ]
  },
  {
   "cell_type": "code",
   "execution_count": 136,
   "id": "04183c57",
   "metadata": {
    "scrolled": true
   },
   "outputs": [
    {
     "data": {
      "text/plain": [
       "file_type\n",
       "embedded-jsonld      (615, 358, 518.6633333333333, 527.0, 300)\n",
       "mf-adr                 (506, 157, 412.7142857142857, 444.0, 7)\n",
       "mf-geo                             (407, 407, 407.0, 407.0, 1)\n",
       "mf-hcard             (861, 605, 727.1328790459966, 725.0, 587)\n",
       "mf-hrecipe                         (367, 107, 247.0, 267.0, 3)\n",
       "mf-hreview              (375, 48, 264.1666666666667, 291.0, 6)\n",
       "mf-xfn                             (760, 688, 720.5, 712.0, 6)\n",
       "microdata          (1345, 238, 413.1280487804878, 418.0, 1148)\n",
       "rdfa                         (455, 235, 368.453125, 377.5, 64)\n",
       "Name: duration, dtype: object"
      ]
     },
     "execution_count": 136,
     "metadata": {},
     "output_type": "execute_result"
    }
   ],
   "source": [
    "durations_df.groupby('file_type').duration.apply(lambda s: (s.max(), s.min(), s.mean(), s.median(), s.shape[0]))"
   ]
  },
  {
   "cell_type": "markdown",
   "id": "1e0328ee",
   "metadata": {},
   "source": [
    "### Incomplete"
   ]
  },
  {
   "cell_type": "code",
   "execution_count": 113,
   "id": "6d7e0602",
   "metadata": {},
   "outputs": [],
   "source": [
    "started = [re.match('^.* \\[(.*)\\].*$', l).groups()[0] for l in progress_lines_19]"
   ]
  },
  {
   "cell_type": "code",
   "execution_count": 114,
   "id": "4d96c502",
   "metadata": {},
   "outputs": [],
   "source": [
    "completed = [re.match('^(.*?) .*$', l).groups()[0] for l in duration_lines_19]"
   ]
  },
  {
   "cell_type": "code",
   "execution_count": 115,
   "id": "a1eb76d9",
   "metadata": {},
   "outputs": [
    {
     "data": {
      "text/plain": [
       "set()"
      ]
     },
     "execution_count": 115,
     "metadata": {},
     "output_type": "execute_result"
    }
   ],
   "source": [
    "set(completed) - set(started)"
   ]
  },
  {
   "cell_type": "markdown",
   "id": "aa907f5b",
   "metadata": {},
   "source": [
    "NOTE: Two 2019 file that I touched but don't remember what they were. Check in the zsh history perhaps.\n",
    "\n",
    "From history:\n",
    "\n",
    "```\n",
    "touch /nfs/data/webdatacommons/out/2020/dpef.html-embedded-jsonld.nq-02657.gz\n",
    "touch /nfs/data/webdatacommons/out/2020/dpef.html-rdfa.nq-03918.gz\n",
    "```"
   ]
  },
  {
   "cell_type": "markdown",
   "id": "22913ee5",
   "metadata": {},
   "source": [
    "#### Calculating touch intervention at 25 Nov. 10:15"
   ]
  },
  {
   "cell_type": "code",
   "execution_count": 109,
   "id": "e0dc0115",
   "metadata": {},
   "outputs": [],
   "source": [
    "started = [re.match('^.* \\[(.*)\\].*$', l).groups()[0] for l in progress_lines_20]"
   ]
  },
  {
   "cell_type": "code",
   "execution_count": 110,
   "id": "13e78b2d",
   "metadata": {},
   "outputs": [],
   "source": [
    "completed = [re.match('^(.*?) .*$', l).groups()[0] for l in duration_lines_20]"
   ]
  },
  {
   "cell_type": "code",
   "execution_count": 112,
   "id": "a55b1b3b",
   "metadata": {},
   "outputs": [
    {
     "name": "stdout",
     "output_type": "stream",
     "text": [
      "touch /nfs/data/webdatacommons/out/2020/dpef.html-microdata.nq-00004.gz\n",
      "touch /nfs/data/webdatacommons/out/2020/dpef.html-embedded-jsonld.nq-02464.gz\n",
      "touch /nfs/data/webdatacommons/out/2020/dpef.html-embedded-jsonld.nq-02752.gz\n",
      "touch /nfs/data/webdatacommons/out/2020/dpef.html-mf-xfn.nq-00031.gz\n",
      "touch /nfs/data/webdatacommons/out/2020/dpef.html-embedded-jsonld.nq-02745.gz\n",
      "touch /nfs/data/webdatacommons/out/2020/dpef.html-embedded-jsonld.nq-02627.gz\n",
      "touch /nfs/data/webdatacommons/out/2020/dpef.html-embedded-jsonld.nq-02559.gz\n",
      "touch /nfs/data/webdatacommons/out/2020/dpef.html-embedded-jsonld.nq-02414.gz\n",
      "touch /nfs/data/webdatacommons/out/2020/dpef.html-embedded-jsonld.nq-02561.gz\n",
      "touch /nfs/data/webdatacommons/out/2020/dpef.html-embedded-jsonld.nq-02698.gz\n",
      "touch /nfs/data/webdatacommons/out/2020/dpef.html-embedded-jsonld.nq-02576.gz\n",
      "touch /nfs/data/webdatacommons/out/2020/dpef.html-embedded-jsonld.nq-02678.gz\n",
      "touch /nfs/data/webdatacommons/out/2020/dpef.html-embedded-jsonld.nq-02581.gz\n",
      "touch /nfs/data/webdatacommons/out/2020/dpef.html-embedded-jsonld.nq-00268.gz\n",
      "touch /nfs/data/webdatacommons/out/2020/dpef.html-embedded-jsonld.nq-02529.gz\n"
     ]
    },
    {
     "data": {
      "text/plain": [
       "[None,\n",
       " None,\n",
       " None,\n",
       " None,\n",
       " None,\n",
       " None,\n",
       " None,\n",
       " None,\n",
       " None,\n",
       " None,\n",
       " None,\n",
       " None,\n",
       " None,\n",
       " None,\n",
       " None]"
      ]
     },
     "execution_count": 112,
     "metadata": {},
     "output_type": "execute_result"
    }
   ],
   "source": [
    "[print('touch ' + f.replace('commons/', 'commons/out/')) for f in set(started) - set(completed)]"
   ]
  },
  {
   "cell_type": "markdown",
   "id": "9ac4fc1f",
   "metadata": {},
   "source": [
    "`Intervention` Ran above and restarted:\n",
    "```\n",
    "sbatch -c 10 -J lrmi20 -o output_20.log -e err_20.log run_sbatch_20.sh\n",
    "```"
   ]
  },
  {
   "cell_type": "code",
   "execution_count": 116,
   "id": "5b53eb66",
   "metadata": {},
   "outputs": [
    {
     "name": "stdout",
     "output_type": "stream",
     "text": [
      "touch /nfs/data/webdatacommons/out/2021/dpef.html-embedded-jsonld.nq-02477.gz\n",
      "touch /nfs/data/webdatacommons/out/2021/dpef.html-embedded-jsonld.nq-04541.gz\n"
     ]
    },
    {
     "data": {
      "text/plain": [
       "[None, None]"
      ]
     },
     "execution_count": 116,
     "metadata": {},
     "output_type": "execute_result"
    }
   ],
   "source": [
    "started = [re.match('^.* \\[(.*)\\].*$', l).groups()[0] for l in progress_lines_21]\n",
    "completed = [re.match('^(.*?) .*$', l).groups()[0] for l in duration_lines_21]\n",
    "[print('touch ' + f.replace('commons/', 'commons/out/')) for f in set(started) - set(completed)]"
   ]
  },
  {
   "cell_type": "markdown",
   "id": "3c137d1a",
   "metadata": {},
   "source": [
    "`Intervention` Ran above and restarte 21"
   ]
  },
  {
   "cell_type": "markdown",
   "id": "213c1628",
   "metadata": {},
   "source": [
    "#### Calculating touch intervention at 25 Nov. 12:04"
   ]
  },
  {
   "cell_type": "code",
   "execution_count": 145,
   "id": "ba91935d",
   "metadata": {},
   "outputs": [
    {
     "name": "stdout",
     "output_type": "stream",
     "text": [
      "touch /nfs/data/webdatacommons/out/2021/dpef.html-mf-hcard.nq-01297.gz\n",
      "touch /nfs/data/webdatacommons/out/2021/dpef.html-mf-hcard.nq-01302.gz\n",
      "touch /nfs/data/webdatacommons/out/2021/dpef.html-embedded-jsonld.nq-02709.gz\n",
      "touch /nfs/data/webdatacommons/out/2021/dpef.html-microdata.nq-07389.gz\n",
      "touch /nfs/data/webdatacommons/out/2021/dpef.html-mf-hcard.nq-01260.gz\n",
      "touch /nfs/data/webdatacommons/out/2021/dpef.html-embedded-jsonld.nq-02592.gz\n",
      "touch /nfs/data/webdatacommons/out/2021/dpef.html-embedded-jsonld.nq-02634.gz\n",
      "touch /nfs/data/webdatacommons/out/2021/dpef.html-embedded-jsonld.nq-02565.gz\n",
      "touch /nfs/data/webdatacommons/out/2021/dpef.html-embedded-jsonld.nq-02398.gz\n",
      "touch /nfs/data/webdatacommons/out/2021/dpef.html-embedded-jsonld.nq-02756.gz\n"
     ]
    },
    {
     "data": {
      "text/plain": [
       "[None, None, None, None, None, None, None, None, None, None]"
      ]
     },
     "execution_count": 145,
     "metadata": {},
     "output_type": "execute_result"
    }
   ],
   "source": [
    "started = [re.match('^.* \\[(.*)\\].*$', l).groups()[0] for l in progress_lines_21]\n",
    "completed = [re.match('^(.*?) .*$', l).groups()[0] for l in duration_lines_21]\n",
    "[print('touch ' + f.replace('commons/', 'commons/out/')) for f in set(started) - set(completed)]"
   ]
  },
  {
   "cell_type": "markdown",
   "id": "98273dec",
   "metadata": {},
   "source": [
    "`Intervention` Ran above and restarte 21"
   ]
  },
  {
   "cell_type": "markdown",
   "id": "07b51f8f",
   "metadata": {},
   "source": [
    "#### Calculating touch intervention at 26 Nov. 8:12"
   ]
  },
  {
   "cell_type": "code",
   "execution_count": 24,
   "id": "0180046f",
   "metadata": {},
   "outputs": [
    {
     "name": "stdout",
     "output_type": "stream",
     "text": [
      "TO_CANCEL=`ssh devbox2 -- 'squeue | grep sebast | grep 21' | awk '{print $1}'`\n",
      "ssh devbox2 -- scancel $TO_CANCEL\n",
      "sleep 5\n",
      "ssh devbox2 -- touch /nfs/data/webdatacommons/out/2021/dpef.html-embedded-jsonld.nq-02399.gz\n",
      "ssh devbox2 -- touch /nfs/data/webdatacommons/out/2021/dpef.html-embedded-jsonld.nq-02668.gz\n",
      "ssh devbox2 -- touch /nfs/data/webdatacommons/out/2021/dpef.html-embedded-jsonld.nq-02725.gz\n",
      "ssh devbox2 -- touch /nfs/data/webdatacommons/out/2021/dpef.html-embedded-jsonld.nq-02539.gz\n",
      "ssh devbox2 -- touch /nfs/data/webdatacommons/out/2021/dpef.html-mf-hcard.nq-01301.gz\n",
      "ssh devbox2 -- touch /nfs/data/webdatacommons/out/2021/dpef.html-embedded-jsonld.nq-02708.gz\n",
      "ssh devbox2 -- touch /nfs/data/webdatacommons/out/2021/dpef.html-embedded-jsonld.nq-02637.gz\n",
      "ssh devbox2 -- touch /nfs/data/webdatacommons/out/2021/dpef.html-embedded-jsonld.nq-02379.gz\n",
      "ssh devbox2 -- touch /nfs/data/webdatacommons/out/2021/dpef.html-embedded-jsonld.nq-02586.gz\n",
      "ssh devbox2 -- touch /nfs/data/webdatacommons/out/2021/dpef.html-embedded-jsonld.nq-02494.gz\n",
      "ssh devbox2 -- touch /nfs/data/webdatacommons/out/2021/dpef.html-embedded-jsonld.nq-02411.gz\n",
      "ssh devbox2 -- touch /nfs/data/webdatacommons/out/2021/dpef.html-embedded-jsonld.nq-02591.gz\n",
      "ssh devbox2 -- touch /nfs/data/webdatacommons/out/2021/dpef.html-embedded-jsonld.nq-02356.gz\n",
      "ssh devbox2 -- touch /nfs/data/webdatacommons/out/2021/dpef.html-embedded-jsonld.nq-02459.gz\n",
      "ssh devbox2 -- touch /nfs/data/webdatacommons/out/2021/dpef.html-mf-hcard.nq-01261.gz\n",
      "ssh devbox2 -- touch /nfs/data/webdatacommons/out/2021/dpef.html-mf-hcard.nq-01276.gz\n",
      "ssh devbox2 -- touch /nfs/data/webdatacommons/out/2021/dpef.html-embedded-jsonld.nq-02354.gz\n",
      "ssh devbox2 -- touch /nfs/data/webdatacommons/out/2021/dpef.html-mf-hcard.nq-01281.gz\n",
      "ssh devbox2 -- touch /nfs/data/webdatacommons/out/2021/dpef.html-embedded-jsonld.nq-02620.gz\n",
      "ssh devbox2 -- touch /nfs/data/webdatacommons/out/2021/dpef.html-mf-hcard.nq-01294.gz\n",
      "ssh devbox2 -- touch /nfs/data/webdatacommons/out/2021/dpef.html-embedded-jsonld.nq-02593.gz\n",
      "ssh devbox2 -- touch /nfs/data/webdatacommons/out/2021/dpef.html-embedded-jsonld.nq-02573.gz\n",
      "ssh devbox2 -- touch /nfs/data/webdatacommons/out/2021/dpef.html-embedded-jsonld.nq-02778.gz\n",
      "ssh devbox2 -- touch /nfs/data/webdatacommons/out/2021/dpef.html-microdata.nq-03317.gz\n",
      "ssh devbox2 -- touch /nfs/data/webdatacommons/out/2021/dpef.html-embedded-jsonld.nq-02652.gz\n",
      "ssh devbox2 -- touch /nfs/data/webdatacommons/out/2021/dpef.html-embedded-jsonld.nq-02429.gz\n",
      "ssh devbox2 -- touch /nfs/data/webdatacommons/out/2021/dpef.html-embedded-jsonld.nq-02732.gz\n",
      "ssh devbox2 -- touch /nfs/data/webdatacommons/out/2021/dpef.html-mf-hcard.nq-01274.gz\n",
      "ssh devbox2 -- touch /nfs/data/webdatacommons/out/2021/dpef.html-embedded-jsonld.nq-02571.gz\n",
      "ssh devbox2 -- touch /nfs/data/webdatacommons/out/2021/dpef.html-embedded-jsonld.nq-02742.gz\n",
      "ssh devbox2 -- touch /nfs/data/webdatacommons/out/2021/dpef.html-embedded-jsonld.nq-02688.gz\n",
      "ssh devbox2 -- touch /nfs/data/webdatacommons/out/2021/dpef.html-embedded-jsonld.nq-02564.gz\n",
      "ssh devbox2 -- touch /nfs/data/webdatacommons/out/2021/dpef.html-embedded-jsonld.nq-02461.gz\n",
      "ssh devbox2 -- touch /nfs/data/webdatacommons/out/2021/dpef.html-mf-hcard.nq-01283.gz\n",
      "ssh devbox2 -- touch /nfs/data/webdatacommons/out/2021/dpef.html-embedded-jsonld.nq-02404.gz\n",
      "ssh devbox2 -- touch /nfs/data/webdatacommons/out/2021/dpef.html-embedded-jsonld.nq-02755.gz\n",
      "ssh devbox2 -- touch /nfs/data/webdatacommons/out/2021/dpef.html-mf-hcard.nq-01229.gz\n",
      "ssh devbox2 -- touch /nfs/data/webdatacommons/out/2021/dpef.html-embedded-jsonld.nq-02740.gz\n",
      "ssh devbox2 -- touch /nfs/data/webdatacommons/out/2021/dpef.html-embedded-jsonld.nq-02727.gz\n",
      "ssh devbox2 -- touch /nfs/data/webdatacommons/out/2021/dpef.html-embedded-jsonld.nq-02757.gz\n",
      "ssh devbox2 -- touch /nfs/data/webdatacommons/out/2021/dpef.html-embedded-jsonld.nq-02501.gz\n",
      "ssh devbox2 -- touch /nfs/data/webdatacommons/out/2021/dpef.html-embedded-jsonld.nq-02618.gz\n",
      "ssh devbox2 -- touch /nfs/data/webdatacommons/out/2021/dpef.html-embedded-jsonld.nq-02730.gz\n",
      "ssh devbox2 -- touch /nfs/data/webdatacommons/out/2021/dpef.html-embedded-jsonld.nq-02650.gz\n",
      "ssh devbox2 -- touch /nfs/data/webdatacommons/out/2021/dpef.html-mf-hcard.nq-01303.gz\n",
      "ssh devbox2 -- touch /nfs/data/webdatacommons/out/2021/dpef.html-mf-hcard.nq-01296.gz\n",
      "ssh devbox2 -- touch /nfs/data/webdatacommons/out/2021/dpef.html-mf-hcard.nq-01263.gz\n",
      "ssh devbox2 -- touch /nfs/data/webdatacommons/out/2021/dpef.html-mf-hcard.nq-01259.gz\n",
      "ssh devbox2 -- sbatch -c 10 -J lrmi21 -o output_21.log -e err_21.log run_sbatch_21.sh\n"
     ]
    }
   ],
   "source": [
    "started = [re.match('^.* \\[(.*)\\].*$', l).groups()[0] for l in progress_lines_21]\n",
    "completed = [re.match('^(.*?) .*$', l).groups()[0] for l in duration_lines_21]\n",
    "print(\"\"\"TO_CANCEL=`ssh devbox2 -- 'squeue | grep sebast | grep 21' | awk '{print $1}'`\"\"\")\n",
    "print(\"\"\"ssh devbox2 -- scancel $TO_CANCEL\"\"\")\n",
    "print(\"sleep 5\")\n",
    "[print('ssh devbox2 -- touch ' + f.replace('commons/', 'commons/out/')) for f in set(started) - set(completed)]\n",
    "print(\"ssh devbox2 -- sbatch -c 10 -J lrmi21 -o output_21.log -e err_21.log run_sbatch_21.sh\")"
   ]
  },
  {
   "cell_type": "code",
   "execution_count": 25,
   "id": "68de88be",
   "metadata": {},
   "outputs": [
    {
     "name": "stdout",
     "output_type": "stream",
     "text": [
      "TO_CANCEL=`ssh devbox2 -- 'squeue | grep sebast | grep 20' | awk '{print $1}'`\n",
      "ssh devbox2 -- scancel $TO_CANCEL\n",
      "sleep 5\n",
      "ssh devbox2 -- touch /nfs/data/webdatacommons/out/2020/dpef.html-embedded-jsonld.nq-02368.gz\n",
      "ssh devbox2 -- touch /nfs/data/webdatacommons/out/2020/dpef.html-mf-xfn.nq-00032.gz\n",
      "ssh devbox2 -- touch /nfs/data/webdatacommons/out/2020/dpef.html-embedded-jsonld.nq-02512.gz\n",
      "ssh devbox2 -- touch /nfs/data/webdatacommons/out/2020/dpef.html-mf-hreview.nq-00002.gz\n",
      "ssh devbox2 -- touch /nfs/data/webdatacommons/out/2020/dpef.html-embedded-jsonld.nq-02632.gz\n",
      "ssh devbox2 -- touch /nfs/data/webdatacommons/out/2020/dpef.html-mf-hreview.nq-00001.gz\n",
      "ssh devbox2 -- touch /nfs/data/webdatacommons/out/2020/dpef.html-embedded-jsonld.nq-02465.gz\n",
      "ssh devbox2 -- touch /nfs/data/webdatacommons/out/2020/dpef.html-mf-xfn.nq-00040.gz\n",
      "ssh devbox2 -- touch /nfs/data/webdatacommons/out/2020/dpef.html-embedded-jsonld.nq-02753.gz\n",
      "ssh devbox2 -- touch /nfs/data/webdatacommons/out/2020/dpef.html-embedded-jsonld.nq-02415.gz\n",
      "ssh devbox2 -- touch /nfs/data/webdatacommons/out/2020/dpef.html-embedded-jsonld.nq-02642.gz\n",
      "ssh devbox2 -- touch /nfs/data/webdatacommons/out/2020/dpef.html-mf-xfn.nq-00009.gz\n",
      "ssh devbox2 -- touch /nfs/data/webdatacommons/out/2020/dpef.html-mf-xfn.nq-00025.gz\n",
      "ssh devbox2 -- touch /nfs/data/webdatacommons/out/2020/dpef.html-mf-xfn.nq-00026.gz\n",
      "ssh devbox2 -- touch /nfs/data/webdatacommons/out/2020/dpef.html-mf-xfn.nq-00030.gz\n",
      "ssh devbox2 -- touch /nfs/data/webdatacommons/out/2020/dpef.html-embedded-jsonld.nq-02487.gz\n",
      "ssh devbox2 -- touch /nfs/data/webdatacommons/out/2020/dpef.html-embedded-jsonld.nq-02473.gz\n",
      "ssh devbox2 -- touch /nfs/data/webdatacommons/out/2020/dpef.html-mf-xfn.nq-00027.gz\n",
      "ssh devbox2 -- touch /nfs/data/webdatacommons/out/2020/dpef.html-embedded-jsonld.nq-02563.gz\n",
      "ssh devbox2 -- touch /nfs/data/webdatacommons/out/2020/dpef.html-embedded-jsonld.nq-02722.gz\n",
      "ssh devbox2 -- touch /nfs/data/webdatacommons/out/2020/dpef.html-embedded-jsonld.nq-02490.gz\n",
      "ssh devbox2 -- touch /nfs/data/webdatacommons/out/2020/dpef.html-embedded-jsonld.nq-02369.gz\n",
      "ssh devbox2 -- touch /nfs/data/webdatacommons/out/2020/dpef.html-embedded-jsonld.nq-02575.gz\n",
      "ssh devbox2 -- touch /nfs/data/webdatacommons/out/2020/dpef.html-embedded-jsonld.nq-02597.gz\n",
      "ssh devbox2 -- touch /nfs/data/webdatacommons/out/2020/dpef.html-embedded-jsonld.nq-02492.gz\n",
      "ssh devbox2 -- touch /nfs/data/webdatacommons/out/2020/dpef.html-embedded-jsonld.nq-00081.gz\n",
      "ssh devbox2 -- touch /nfs/data/webdatacommons/out/2020/dpef.html-microdata.nq-00011.gz\n",
      "ssh devbox2 -- touch /nfs/data/webdatacommons/out/2020/dpef.html-mf-hreview.nq-00000.gz\n",
      "ssh devbox2 -- touch /nfs/data/webdatacommons/out/2020/dpef.html-embedded-jsonld.nq-02721.gz\n",
      "ssh devbox2 -- touch /nfs/data/webdatacommons/out/2020/dpef.html-embedded-jsonld.nq-02448.gz\n",
      "ssh devbox2 -- touch /nfs/data/webdatacommons/out/2020/dpef.html-embedded-jsonld.nq-02560.gz\n",
      "ssh devbox2 -- touch /nfs/data/webdatacommons/out/2020/dpef.html-embedded-jsonld.nq-02719.gz\n",
      "ssh devbox2 -- touch /nfs/data/webdatacommons/out/2020/dpef.html-embedded-jsonld.nq-02631.gz\n",
      "ssh devbox2 -- touch /nfs/data/webdatacommons/out/2020/dpef.html-embedded-jsonld.nq-02624.gz\n",
      "ssh devbox2 -- touch /nfs/data/webdatacommons/out/2020/dpef.html-embedded-jsonld.nq-02723.gz\n",
      "ssh devbox2 -- touch /nfs/data/webdatacommons/out/2020/dpef.html-embedded-jsonld.nq-02472.gz\n",
      "ssh devbox2 -- touch /nfs/data/webdatacommons/out/2020/dpef.html-microdata.nq-00007.gz\n",
      "ssh devbox2 -- touch /nfs/data/webdatacommons/out/2020/dpef.html-embedded-jsonld.nq-02626.gz\n",
      "ssh devbox2 -- touch /nfs/data/webdatacommons/out/2020/dpef.html-embedded-jsonld.nq-02505.gz\n",
      "ssh devbox2 -- touch /nfs/data/webdatacommons/out/2020/dpef.html-embedded-jsonld.nq-02633.gz\n",
      "ssh devbox2 -- touch /nfs/data/webdatacommons/out/2020/dpef.html-embedded-jsonld.nq-02594.gz\n",
      "ssh devbox2 -- touch /nfs/data/webdatacommons/out/2020/dpef.html-embedded-jsonld.nq-02643.gz\n",
      "ssh devbox2 -- touch /nfs/data/webdatacommons/out/2020/dpef.html-embedded-jsonld.nq-02656.gz\n",
      "ssh devbox2 -- touch /nfs/data/webdatacommons/out/2020/dpef.html-microdata.nq-00013.gz\n",
      "ssh devbox2 -- touch /nfs/data/webdatacommons/out/2020/dpef.html-embedded-jsonld.nq-02388.gz\n",
      "ssh devbox2 -- touch /nfs/data/webdatacommons/out/2020/dpef.html-embedded-jsonld.nq-02580.gz\n",
      "ssh devbox2 -- touch /nfs/data/webdatacommons/out/2020/dpef.html-embedded-jsonld.nq-02336.gz\n",
      "ssh devbox2 -- touch /nfs/data/webdatacommons/out/2020/dpef.html-embedded-jsonld.nq-02582.gz\n",
      "ssh devbox2 -- touch /nfs/data/webdatacommons/out/2020/dpef.html-embedded-jsonld.nq-02641.gz\n",
      "ssh devbox2 -- touch /nfs/data/webdatacommons/out/2020/dpef.html-embedded-jsonld.nq-02507.gz\n",
      "ssh devbox2 -- touch /nfs/data/webdatacommons/out/2020/dpef.html-embedded-jsonld.nq-02654.gz\n",
      "ssh devbox2 -- touch /nfs/data/webdatacommons/out/2020/dpef.html-embedded-jsonld.nq-02744.gz\n",
      "ssh devbox2 -- touch /nfs/data/webdatacommons/out/2020/dpef.html-embedded-jsonld.nq-02334.gz\n",
      "ssh devbox2 -- touch /nfs/data/webdatacommons/out/2020/dpef.html-embedded-jsonld.nq-02562.gz\n",
      "ssh devbox2 -- touch /nfs/data/webdatacommons/out/2020/dpef.html-embedded-jsonld.nq-02699.gz\n",
      "ssh devbox2 -- touch /nfs/data/webdatacommons/out/2020/dpef.html-embedded-jsonld.nq-02734.gz\n",
      "ssh devbox2 -- touch /nfs/data/webdatacommons/out/2020/dpef.html-embedded-jsonld.nq-02558.gz\n",
      "ssh devbox2 -- touch /nfs/data/webdatacommons/out/2020/dpef.html-embedded-jsonld.nq-02402.gz\n",
      "ssh devbox2 -- touch /nfs/data/webdatacommons/out/2020/dpef.html-embedded-jsonld.nq-02746.gz\n",
      "ssh devbox2 -- touch /nfs/data/webdatacommons/out/2020/dpef.html-embedded-jsonld.nq-02630.gz\n",
      "ssh devbox2 -- touch /nfs/data/webdatacommons/out/2020/dpef.html-embedded-jsonld.nq-02736.gz\n",
      "ssh devbox2 -- touch /nfs/data/webdatacommons/out/2020/dpef.html-embedded-jsonld.nq-02751.gz\n",
      "ssh devbox2 -- touch /nfs/data/webdatacommons/out/2020/dpef.html-microdata.nq-00005.gz\n",
      "ssh devbox2 -- touch /nfs/data/webdatacommons/out/2020/dpef.html-microdata.nq-00012.gz\n",
      "ssh devbox2 -- touch /nfs/data/webdatacommons/out/2020/dpef.html-embedded-jsonld.nq-02720.gz\n",
      "ssh devbox2 -- touch /nfs/data/webdatacommons/out/2020/dpef.html-microdata.nq-00010.gz\n",
      "ssh devbox2 -- touch /nfs/data/webdatacommons/out/2020/dpef.html-embedded-jsonld.nq-02347.gz\n",
      "ssh devbox2 -- touch /nfs/data/webdatacommons/out/2020/dpef.html-mf-hreview.nq-00003.gz\n",
      "ssh devbox2 -- touch /nfs/data/webdatacommons/out/2020/dpef.html-embedded-jsonld.nq-02467.gz\n",
      "ssh devbox2 -- touch /nfs/data/webdatacommons/out/2020/dpef.html-embedded-jsonld.nq-02595.gz\n",
      "ssh devbox2 -- touch /nfs/data/webdatacommons/out/2020/dpef.html-embedded-jsonld.nq-02485.gz\n",
      "ssh devbox2 -- touch /nfs/data/webdatacommons/out/2020/dpef.html-mf-xfn.nq-00008.gz\n",
      "ssh devbox2 -- touch /nfs/data/webdatacommons/out/2020/dpef.html-embedded-jsonld.nq-02769.gz\n",
      "ssh devbox2 -- touch /nfs/data/webdatacommons/out/2020/dpef.html-embedded-jsonld.nq-02417.gz\n",
      "ssh devbox2 -- touch /nfs/data/webdatacommons/out/2020/dpef.html-embedded-jsonld.nq-02344.gz\n",
      "ssh devbox2 -- touch /nfs/data/webdatacommons/out/2020/dpef.html-mf-xfn.nq-00042.gz\n",
      "ssh devbox2 -- touch /nfs/data/webdatacommons/out/2020/dpef.html-mf-xfn.nq-00024.gz\n",
      "ssh devbox2 -- touch /nfs/data/webdatacommons/out/2020/dpef.html-embedded-jsonld.nq-02609.gz\n",
      "ssh devbox2 -- touch /nfs/data/webdatacommons/out/2020/dpef.html-embedded-jsonld.nq-02438.gz\n",
      "ssh devbox2 -- touch /nfs/data/webdatacommons/out/2020/dpef.html-embedded-jsonld.nq-02750.gz\n",
      "ssh devbox2 -- sbatch -c 10 -J lrmi20 -o output_20.log -e err_20.log run_sbatch_20.sh\n"
     ]
    }
   ],
   "source": [
    "year = 20\n",
    "started = [re.match('^.* \\[(.*)\\].*$', l).groups()[0] for l in progress_lines_20]\n",
    "completed = [re.match('^(.*?) .*$', l).groups()[0] for l in duration_lines_20]\n",
    "print(\"\"\"TO_CANCEL=`ssh devbox2 -- 'squeue | grep sebast | grep 20' | awk '{print $1}'`\"\"\")\n",
    "print(\"\"\"ssh devbox2 -- scancel $TO_CANCEL\"\"\")\n",
    "print(\"sleep 5\")\n",
    "[print('ssh devbox2 -- touch ' + f.replace('commons/', 'commons/out/')) for f in set(started) - set(completed)]\n",
    "print(f\"ssh devbox2 -- sbatch -c 10 -J lrmi{year} -o output_{year}.log -e err_{year}.log run_sbatch_{year}.sh\")"
   ]
  },
  {
   "cell_type": "code",
   "execution_count": 26,
   "id": "0301b134",
   "metadata": {},
   "outputs": [
    {
     "name": "stdout",
     "output_type": "stream",
     "text": [
      "TO_CANCEL=`ssh devbox2 -- 'squeue | grep sebast | grep 19' | awk '{print $1}'`\n",
      "ssh devbox2 -- scancel $TO_CANCEL\n",
      "sleep 5\n",
      "ssh devbox2 -- touch /nfs/data/webdatacommons/out/2019/dpef.html-mf-hcard.nq-00965.gz\n",
      "ssh devbox2 -- touch /nfs/data/webdatacommons/out/2019/dpef.html-microdata.nq-05160.gz\n",
      "ssh devbox2 -- touch /nfs/data/webdatacommons/out/2019/dpef.html-microdata.nq-03664.gz\n",
      "ssh devbox2 -- touch /nfs/data/webdatacommons/out/2019/dpef.html-mf-hcard.nq-01102.gz\n",
      "ssh devbox2 -- sbatch -c 10 -J lrmi19 -o output_19.log -e err_19.log run_sbatch_19.sh\n"
     ]
    }
   ],
   "source": [
    "year = 19\n",
    "started = [re.match('^.* \\[(.*)\\].*$', l).groups()[0] for l in progress_lines_19]\n",
    "completed = [re.match('^(.*?) .*$', l).groups()[0] for l in duration_lines_19]\n",
    "print(\"\"\"TO_CANCEL=`ssh devbox2 -- 'squeue | grep sebast | grep 19' | awk '{print $1}'`\"\"\")\n",
    "print(\"\"\"ssh devbox2 -- scancel $TO_CANCEL\"\"\")\n",
    "print(\"sleep 5\")\n",
    "[print('ssh devbox2 -- touch ' + f.replace('commons/', 'commons/out/')) for f in set(started) - set(completed)]\n",
    "print(f\"ssh devbox2 -- sbatch -c 10 -J lrmi{year} -o output_{year}.log -e err_{year}.log run_sbatch_{year}.sh\")"
   ]
  },
  {
   "cell_type": "markdown",
   "id": "f507185e",
   "metadata": {},
   "source": [
    "#### Calculating touch intervention at 26 Nov.21:12"
   ]
  },
  {
   "cell_type": "code",
   "execution_count": 13,
   "id": "93325452",
   "metadata": {},
   "outputs": [
    {
     "name": "stdout",
     "output_type": "stream",
     "text": [
      "TO_CANCEL=`ssh devbox2 -- 'squeue | grep sebast | grep 20' | awk '{print $1}'`\n",
      "ssh devbox2 -- scancel $TO_CANCEL\n",
      "sleep 5\n",
      "ssh devbox2 -- touch /nfs/data/webdatacommons/out/2020/dpef.html-embedded-jsonld.nq-02505.gz\n",
      "ssh devbox2 -- touch /nfs/data/webdatacommons/out/2020/dpef.html-embedded-jsonld.nq-02467.gz\n",
      "ssh devbox2 -- touch /nfs/data/webdatacommons/out/2020/dpef.html-mf-xfn.nq-00026.gz\n",
      "ssh devbox2 -- touch /nfs/data/webdatacommons/out/2020/dpef.html-embedded-jsonld.nq-02722.gz\n",
      "ssh devbox2 -- touch /nfs/data/webdatacommons/out/2020/dpef.html-embedded-jsonld.nq-02388.gz\n",
      "ssh devbox2 -- touch /nfs/data/webdatacommons/out/2020/dpef.html-mf-hreview.nq-00002.gz\n",
      "ssh devbox2 -- touch /nfs/data/webdatacommons/out/2020/dpef.html-mf-xfn.nq-00009.gz\n",
      "ssh devbox2 -- touch /nfs/data/webdatacommons/out/2020/dpef.html-embedded-jsonld.nq-02624.gz\n",
      "ssh devbox2 -- touch /nfs/data/webdatacommons/out/2020/dpef.html-mf-xfn.nq-00025.gz\n",
      "ssh devbox2 -- touch /nfs/data/webdatacommons/out/2020/dpef.html-embedded-jsonld.nq-02507.gz\n",
      "ssh devbox2 -- touch /nfs/data/webdatacommons/out/2020/dpef.html-embedded-jsonld.nq-02736.gz\n",
      "ssh devbox2 -- touch /nfs/data/webdatacommons/out/2020/dpef.html-mf-xfn.nq-00040.gz\n",
      "ssh devbox2 -- touch /nfs/data/webdatacommons/out/2020/dpef.html-embedded-jsonld.nq-02633.gz\n",
      "ssh devbox2 -- touch /nfs/data/webdatacommons/out/2020/dpef.html-embedded-jsonld.nq-02751.gz\n",
      "ssh devbox2 -- touch /nfs/data/webdatacommons/out/2020/dpef.html-embedded-jsonld.nq-02630.gz\n",
      "ssh devbox2 -- touch /nfs/data/webdatacommons/out/2020/dpef.html-embedded-jsonld.nq-02734.gz\n",
      "ssh devbox2 -- touch /nfs/data/webdatacommons/out/2020/dpef.html-embedded-jsonld.nq-02723.gz\n",
      "ssh devbox2 -- touch /nfs/data/webdatacommons/out/2020/dpef.html-embedded-jsonld.nq-02720.gz\n",
      "ssh devbox2 -- touch /nfs/data/webdatacommons/out/2020/dpef.html-mf-xfn.nq-00032.gz\n",
      "ssh devbox2 -- touch /nfs/data/webdatacommons/out/2020/dpef.html-microdata.nq-00012.gz\n",
      "ssh devbox2 -- touch /nfs/data/webdatacommons/out/2020/dpef.html-embedded-jsonld.nq-02415.gz\n",
      "ssh devbox2 -- touch /nfs/data/webdatacommons/out/2020/dpef.html-embedded-jsonld.nq-02595.gz\n",
      "ssh devbox2 -- touch /nfs/data/webdatacommons/out/2020/dpef.html-embedded-jsonld.nq-02753.gz\n",
      "ssh devbox2 -- touch /nfs/data/webdatacommons/out/2020/dpef.html-mf-xfn.nq-00042.gz\n",
      "ssh devbox2 -- touch /nfs/data/webdatacommons/out/2020/dpef.html-embedded-jsonld.nq-02631.gz\n",
      "ssh devbox2 -- touch /nfs/data/webdatacommons/out/2020/dpef.html-embedded-jsonld.nq-02485.gz\n",
      "ssh devbox2 -- touch /nfs/data/webdatacommons/out/2020/dpef.html-embedded-jsonld.nq-02336.gz\n",
      "ssh devbox2 -- touch /nfs/data/webdatacommons/out/2020/dpef.html-mf-hreview.nq-00000.gz\n",
      "ssh devbox2 -- touch /nfs/data/webdatacommons/out/2020/dpef.html-embedded-jsonld.nq-02654.gz\n",
      "ssh devbox2 -- touch /nfs/data/webdatacommons/out/2020/dpef.html-embedded-jsonld.nq-02472.gz\n",
      "ssh devbox2 -- touch /nfs/data/webdatacommons/out/2020/dpef.html-embedded-jsonld.nq-02492.gz\n",
      "ssh devbox2 -- touch /nfs/data/webdatacommons/out/2020/dpef.html-embedded-jsonld.nq-02750.gz\n",
      "ssh devbox2 -- touch /nfs/data/webdatacommons/out/2020/dpef.html-embedded-jsonld.nq-02632.gz\n",
      "ssh devbox2 -- touch /nfs/data/webdatacommons/out/2020/dpef.html-microdata.nq-00005.gz\n",
      "ssh devbox2 -- touch /nfs/data/webdatacommons/out/2020/dpef.html-microdata.nq-00011.gz\n",
      "ssh devbox2 -- touch /nfs/data/webdatacommons/out/2020/dpef.html-embedded-jsonld.nq-02699.gz\n",
      "ssh devbox2 -- touch /nfs/data/webdatacommons/out/2020/dpef.html-embedded-jsonld.nq-02417.gz\n",
      "ssh devbox2 -- touch /nfs/data/webdatacommons/out/2020/dpef.html-embedded-jsonld.nq-02744.gz\n",
      "ssh devbox2 -- touch /nfs/data/webdatacommons/out/2020/dpef.html-embedded-jsonld.nq-02344.gz\n",
      "ssh devbox2 -- touch /nfs/data/webdatacommons/out/2020/dpef.html-embedded-jsonld.nq-00081.gz\n",
      "ssh devbox2 -- touch /nfs/data/webdatacommons/out/2020/dpef.html-embedded-jsonld.nq-02746.gz\n",
      "ssh devbox2 -- touch /nfs/data/webdatacommons/out/2020/dpef.html-embedded-jsonld.nq-02575.gz\n",
      "ssh devbox2 -- touch /nfs/data/webdatacommons/out/2020/dpef.html-embedded-jsonld.nq-02563.gz\n",
      "ssh devbox2 -- touch /nfs/data/webdatacommons/out/2020/dpef.html-embedded-jsonld.nq-02721.gz\n",
      "ssh devbox2 -- touch /nfs/data/webdatacommons/out/2020/dpef.html-microdata.nq-00010.gz\n",
      "ssh devbox2 -- touch /nfs/data/webdatacommons/out/2020/dpef.html-embedded-jsonld.nq-02609.gz\n",
      "ssh devbox2 -- touch /nfs/data/webdatacommons/out/2020/dpef.html-embedded-jsonld.nq-02334.gz\n",
      "ssh devbox2 -- touch /nfs/data/webdatacommons/out/2020/dpef.html-embedded-jsonld.nq-02368.gz\n",
      "ssh devbox2 -- touch /nfs/data/webdatacommons/out/2020/dpef.html-embedded-jsonld.nq-02490.gz\n",
      "ssh devbox2 -- touch /nfs/data/webdatacommons/out/2020/dpef.html-embedded-jsonld.nq-02643.gz\n",
      "ssh devbox2 -- touch /nfs/data/webdatacommons/out/2020/dpef.html-embedded-jsonld.nq-02558.gz\n",
      "ssh devbox2 -- touch /nfs/data/webdatacommons/out/2020/dpef.html-embedded-jsonld.nq-02369.gz\n",
      "ssh devbox2 -- touch /nfs/data/webdatacommons/out/2020/dpef.html-embedded-jsonld.nq-02347.gz\n",
      "ssh devbox2 -- touch /nfs/data/webdatacommons/out/2020/dpef.html-embedded-jsonld.nq-02597.gz\n",
      "ssh devbox2 -- touch /nfs/data/webdatacommons/out/2020/dpef.html-mf-xfn.nq-00024.gz\n",
      "ssh devbox2 -- touch /nfs/data/webdatacommons/out/2020/dpef.html-mf-hreview.nq-00001.gz\n",
      "ssh devbox2 -- touch /nfs/data/webdatacommons/out/2020/dpef.html-embedded-jsonld.nq-02769.gz\n",
      "ssh devbox2 -- touch /nfs/data/webdatacommons/out/2020/dpef.html-embedded-jsonld.nq-02560.gz\n",
      "ssh devbox2 -- touch /nfs/data/webdatacommons/out/2020/dpef.html-mf-hreview.nq-00003.gz\n",
      "ssh devbox2 -- touch /nfs/data/webdatacommons/out/2020/dpef.html-embedded-jsonld.nq-02448.gz\n",
      "ssh devbox2 -- touch /nfs/data/webdatacommons/out/2020/dpef.html-embedded-jsonld.nq-02473.gz\n",
      "ssh devbox2 -- touch /nfs/data/webdatacommons/out/2020/dpef.html-embedded-jsonld.nq-02512.gz\n",
      "ssh devbox2 -- touch /nfs/data/webdatacommons/out/2020/dpef.html-embedded-jsonld.nq-02465.gz\n",
      "ssh devbox2 -- touch /nfs/data/webdatacommons/out/2020/dpef.html-embedded-jsonld.nq-02594.gz\n",
      "ssh devbox2 -- touch /nfs/data/webdatacommons/out/2020/dpef.html-mf-xfn.nq-00008.gz\n",
      "ssh devbox2 -- touch /nfs/data/webdatacommons/out/2020/dpef.html-embedded-jsonld.nq-02719.gz\n",
      "ssh devbox2 -- touch /nfs/data/webdatacommons/out/2020/dpef.html-microdata.nq-00007.gz\n",
      "ssh devbox2 -- touch /nfs/data/webdatacommons/out/2020/dpef.html-mf-xfn.nq-00027.gz\n",
      "ssh devbox2 -- touch /nfs/data/webdatacommons/out/2020/dpef.html-embedded-jsonld.nq-02487.gz\n",
      "ssh devbox2 -- touch /nfs/data/webdatacommons/out/2020/dpef.html-embedded-jsonld.nq-02438.gz\n",
      "ssh devbox2 -- touch /nfs/data/webdatacommons/out/2020/dpef.html-embedded-jsonld.nq-02642.gz\n",
      "ssh devbox2 -- touch /nfs/data/webdatacommons/out/2020/dpef.html-embedded-jsonld.nq-02626.gz\n",
      "ssh devbox2 -- touch /nfs/data/webdatacommons/out/2020/dpef.html-embedded-jsonld.nq-02402.gz\n",
      "ssh devbox2 -- touch /nfs/data/webdatacommons/out/2020/dpef.html-embedded-jsonld.nq-02641.gz\n",
      "ssh devbox2 -- touch /nfs/data/webdatacommons/out/2020/dpef.html-embedded-jsonld.nq-02580.gz\n",
      "ssh devbox2 -- touch /nfs/data/webdatacommons/out/2020/dpef.html-embedded-jsonld.nq-02656.gz\n",
      "ssh devbox2 -- touch /nfs/data/webdatacommons/out/2020/dpef.html-embedded-jsonld.nq-02582.gz\n",
      "ssh devbox2 -- touch /nfs/data/webdatacommons/out/2020/dpef.html-microdata.nq-00013.gz\n",
      "ssh devbox2 -- touch /nfs/data/webdatacommons/out/2020/dpef.html-embedded-jsonld.nq-02562.gz\n",
      "ssh devbox2 -- touch /nfs/data/webdatacommons/out/2020/dpef.html-mf-xfn.nq-00030.gz\n",
      "ssh devbox2 -- sbatch -c 10 -J lrmi20 -o output_20.log -e err_20.log run_sbatch_20.sh\n"
     ]
    }
   ],
   "source": [
    "year = 20\n",
    "started = [re.match('^.* \\[(.*)\\].*$', l).groups()[0] for l in progress_lines_20]\n",
    "completed = [re.match('^(.*?) .*$', l).groups()[0] for l in duration_lines_20]\n",
    "print(\"\"\"TO_CANCEL=`ssh devbox2 -- 'squeue | grep sebast | grep 20' | awk '{print $1}'`\"\"\")\n",
    "print(\"\"\"ssh devbox2 -- scancel $TO_CANCEL\"\"\")\n",
    "print(\"sleep 5\")\n",
    "[print('ssh devbox2 -- touch ' + f.replace('commons/', 'commons/out/')) for f in set(started) - set(completed)]\n",
    "print(f\"ssh devbox2 -- sbatch -c 10 -J lrmi{year} -o output_{year}.log -e err_{year}.log run_sbatch_{year}.sh\")"
   ]
  },
  {
   "cell_type": "code",
   "execution_count": null,
   "id": "d2b14aa7",
   "metadata": {},
   "outputs": [],
   "source": [
    "year = 21\n",
    "started = [re.match('^.* \\[(.*)\\].*$', l).groups()[0] for l in progress_lines_20]\n",
    "completed = [re.match('^(.*?) .*$', l).groups()[0] for l in duration_lines_20]\n",
    "print(\"\"\"TO_CANCEL=`ssh devbox2 -- 'squeue | grep sebast | grep 21' | awk '{print $1}'`\"\"\")\n",
    "print(\"\"\"ssh devbox2 -- scancel $TO_CANCEL\"\"\")\n",
    "print(\"sleep 5\")\n",
    "[print('ssh devbox2 -- touch ' + f.replace('commons/', 'commons/out/')) for f in set(started) - set(completed)]\n",
    "print(f\"ssh devbox2 -- sbatch -c 10 -J lrmi{year} -o output_{year}.log -e err_{year}.log run_sbatch_{year}.sh\")"
   ]
  },
  {
   "cell_type": "markdown",
   "id": "653209bf",
   "metadata": {},
   "source": [
    "### Reset Touched Files"
   ]
  },
  {
   "cell_type": "code",
   "execution_count": null,
   "id": "defd1d71",
   "metadata": {},
   "outputs": [],
   "source": [
    "touched_files = [\n",
    "    \n",
    "]"
   ]
  }
 ],
 "metadata": {
  "kernelspec": {
   "display_name": "Python 3",
   "language": "python",
   "name": "python3"
  },
  "language_info": {
   "codemirror_mode": {
    "name": "ipython",
    "version": 3
   },
   "file_extension": ".py",
   "mimetype": "text/x-python",
   "name": "python",
   "nbconvert_exporter": "python",
   "pygments_lexer": "ipython3",
   "version": "3.8.8"
  }
 },
 "nbformat": 4,
 "nbformat_minor": 5
}
