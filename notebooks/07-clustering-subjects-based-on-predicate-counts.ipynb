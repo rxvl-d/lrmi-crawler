{
 "cells": [
  {
   "cell_type": "code",
   "execution_count": 1,
   "id": "679e8223",
   "metadata": {},
   "outputs": [],
   "source": [
    "import pickle\n",
    "import dask.dataframe as ddf\n",
    "import pandas as pd"
   ]
  },
  {
   "cell_type": "code",
   "execution_count": 2,
   "id": "da6a9b8f",
   "metadata": {},
   "outputs": [],
   "source": [
    "years = [2019, 2020, 2021]"
   ]
  },
  {
   "cell_type": "code",
   "execution_count": 3,
   "id": "3a6dc752",
   "metadata": {},
   "outputs": [],
   "source": [
    "education_ps = [\n",
    "'http://schema.org/courseCode',\n",
    "'http://schema.org/coursePrerequisite', \n",
    "'http://schema.org/courseSku',\n",
    "'http://schema.org/educationalCredentialAwarded',\n",
    "'http://schema.org/educationalOutcome',\n",
    "'http://schema.org/hasCourseInstance', \n",
    "'http://schema.org/subjectOfStudy',\n",
    "\"http://schema.org/alignmentType\",\n",
    "\"http://schema.org/educationalFramework\",\n",
    "\"http://schema.org/educationalAlignment\",\n",
    "\"http://schema.org/learningResourceType\",\n",
    "\"http://schema.org/interactivityType\",\n",
    "\"http://schema.org/educationalUse\",\n",
    "\"http://schema.org/educationalLevel\",\n",
    "]"
   ]
  },
  {
   "cell_type": "code",
   "execution_count": 18,
   "id": "28526f05",
   "metadata": {},
   "outputs": [],
   "source": [
    "lrmi_predicates = [  \n",
    "    \"http://schema.org/alignmentType\",\n",
    "    \"http://schema.org/educationalAlignment\",\n",
    "    \"http://schema.org/educationalLevel\",\n",
    "    \"http://schema.org/educationalUse\",\n",
    "    \"http://schema.org/interactivityType\",\n",
    "    \"http://schema.org/isBasedOnUrl\",\n",
    "    \"http://schema.org/learningResourceType\",\n",
    "    \"http://schema.org/license\",\n",
    "    \"http://schema.org/timeRequired\",\n",
    "    \"http://schema.org/typicalAgeRange\"]"
   ]
  },
  {
   "cell_type": "code",
   "execution_count": null,
   "id": "50d114e1",
   "metadata": {},
   "outputs": [],
   "source": [
    "description_predicates = [\n",
    "    \"http://schema.org/description\",\n",
    "    \"http://schema.org/Description\",\n",
    "    \"http://purl.org/dc/terms/description\"\n",
    "]"
   ]
  },
  {
   "cell_type": "code",
   "execution_count": 59,
   "id": "c4c9d337",
   "metadata": {},
   "outputs": [
    {
     "data": {
      "text/plain": [
       "subject\n",
       "hdl:10013/epic.10345.d001          False\n",
       "hdl:10013/epic.26862.d001          False\n",
       "hdl:10013/epic.28277.d001          False\n",
       "hdl:10013/epic.28291.d001          False\n",
       "hdl:10013/epic.28324.d001          False\n",
       "                                   ...  \n",
       "kg:/m/06fbpd                        True\n",
       "kg:/m/0l8qm8v                       True\n",
       "kg:/m/0n6gx                         True\n",
       "urn:nbn:de:gbv:46-diss000101449    False\n",
       "urn:nbn:de:gbv:46-ep000106655      False\n",
       "Length: 218816, dtype: bool"
      ]
     },
     "execution_count": 59,
     "metadata": {},
     "output_type": "execute_result"
    }
   ],
   "source": [
    "df[description_predicates].sum(axis=1) > 0"
   ]
  },
  {
   "cell_type": "code",
   "execution_count": null,
   "id": "74eda8de",
   "metadata": {},
   "outputs": [],
   "source": [
    "out = []\n",
    "for year in list(range(2019, 2022)):\n",
    "    with open(f'../data/lrmiout.predicate_cooccurence_{year}.pkl', 'rb') as f:\n",
    "        df = pickle.load(f)\n",
    "    total_subjects = df.shape[0]\n",
    "    domains = df.index.str.extract('.*:\\/\\/(.*?)\\/.*')[0]\n",
    "    total_domains = domains.nunique()\n",
    "    def nsubjects_with_predicates(plist):\n",
    "        nhas_atleast_one = (df[df.columns.intersection(set(plist))].sum(axis=1) > 0).sum()\n",
    "        return nhas_atleast_one\n",
    "    total_w_descriptions = nsubjects_with_predicates(description_predicates)\n",
    "    total_w_lrmi = nsubjects_with_predicates(lrmi_predicates)\n",
    "    total_w_lrmi_prime = nsubjects_with_predicates(\n",
    "        set(lrmi_predicates) - {'http://schema.org/timeRequired', 'http://schema.org/license'})\n",
    "    total_w_ed = nsubjects_with_predicates(education_ps)\n",
    "    total_w_lrmi_w_desc = nsubjects_with_predicates(lrmi_predicates + description_predicates)\n",
    "    total_w_lrmi_prime_w_desc = nsubjects_with_predicates(\n",
    "        set(lrmi_predicates + description_predicates) - {'http://schema.org/timeRequired', 'http://schema.org/license'})\n",
    "    total_w_ed_w_dedsc = nsubjects_with_predicates(education_ps + description_predicates)\n",
    "    out.append(pd.Series({\n",
    "        'year': year,\n",
    "        'total_w_descriptions': total_w_descriptions,\n",
    "        'total_w_lrmi': total_w_lrmi,\n",
    "        'total_w_lrmi_prime': total_w_lrmi_prime,\n",
    "        'total_w_ed': total_w_ed,\n",
    "        'total_w_lrmi_w_desc': total_w_lrmi_w_desc,\n",
    "        'total_w_lrmi_prime_w_desc': total_w_lrmi_prime_w_desc,\n",
    "        'total_w_ed_w_dedsc': total_w_ed_w_dedsc\n",
    "    }))\n",
    "pd.DataFrame(out)"
   ]
  },
  {
   "cell_type": "code",
   "execution_count": 20,
   "id": "1820f1e3",
   "metadata": {},
   "outputs": [
    {
     "data": {
      "text/plain": [
       "(218816, 298)"
      ]
     },
     "execution_count": 20,
     "metadata": {},
     "output_type": "execute_result"
    }
   ],
   "source": [
    "df.shape"
   ]
  },
  {
   "cell_type": "code",
   "execution_count": 53,
   "id": "408c9f60",
   "metadata": {},
   "outputs": [],
   "source": [
    "\n"
   ]
  },
  {
   "cell_type": "code",
   "execution_count": 54,
   "id": "c5280b8a",
   "metadata": {},
   "outputs": [
    {
     "data": {
      "text/plain": [
       "0.7972680242761041"
      ]
     },
     "execution_count": 54,
     "metadata": {},
     "output_type": "execute_result"
    }
   ],
   "source": [
    "(df[description_predicates].sum(axis=1) > 0).sum() / df.shape[0]"
   ]
  },
  {
   "cell_type": "code",
   "execution_count": 40,
   "id": "215a5359",
   "metadata": {},
   "outputs": [],
   "source": [
    "import re\n",
    "\n",
    "def get_domain(url):\n",
    "    match = re.match('.*:\\/\\/(.*?)\\/.*', url)\n",
    "    if match:\n",
    "        return match.groups()[0]\n",
    "    else:\n",
    "        return None"
   ]
  },
  {
   "cell_type": "code",
   "execution_count": 43,
   "id": "be959517",
   "metadata": {},
   "outputs": [],
   "source": [
    "education_p_exists_domains = set([get_domain(u) for u in education_p_exists[education_p_exists > 0].index])"
   ]
  },
  {
   "cell_type": "code",
   "execution_count": 44,
   "id": "006152f7",
   "metadata": {},
   "outputs": [],
   "source": [
    "lrmi_p_exists_domains = set([get_domain(u) for u in lrmi_p_exists[lrmi_p_exists > 0].index])"
   ]
  },
  {
   "cell_type": "code",
   "execution_count": 45,
   "id": "c5676072",
   "metadata": {},
   "outputs": [
    {
     "data": {
      "text/plain": [
       "103"
      ]
     },
     "execution_count": 45,
     "metadata": {},
     "output_type": "execute_result"
    }
   ],
   "source": [
    "len(education_p_exists_domains)"
   ]
  },
  {
   "cell_type": "code",
   "execution_count": 46,
   "id": "aa3f9b27",
   "metadata": {},
   "outputs": [
    {
     "data": {
      "text/plain": [
       "95"
      ]
     },
     "execution_count": 46,
     "metadata": {},
     "output_type": "execute_result"
    }
   ],
   "source": [
    "len(lrmi_p_exists_domains)"
   ]
  },
  {
   "cell_type": "code",
   "execution_count": 47,
   "id": "783c2268",
   "metadata": {},
   "outputs": [
    {
     "data": {
      "text/plain": [
       "132"
      ]
     },
     "execution_count": 47,
     "metadata": {},
     "output_type": "execute_result"
    }
   ],
   "source": [
    "len(set(education_p_exists_domains).union(set(lrmi_p_exists_domains)))"
   ]
  },
  {
   "cell_type": "code",
   "execution_count": 50,
   "id": "e6ebb5ef",
   "metadata": {},
   "outputs": [
    {
     "data": {
      "text/plain": [
       "66"
      ]
     },
     "execution_count": 50,
     "metadata": {},
     "output_type": "execute_result"
    }
   ],
   "source": [
    "len(set(education_p_exists_domains).intersection(set(lrmi_p_exists_domains)))"
   ]
  },
  {
   "cell_type": "code",
   "execution_count": 51,
   "id": "320857b7",
   "metadata": {},
   "outputs": [
    {
     "data": {
      "text/plain": [
       "37"
      ]
     },
     "execution_count": 51,
     "metadata": {},
     "output_type": "execute_result"
    }
   ],
   "source": [
    "len(set(education_p_exists_domains).difference(set(lrmi_p_exists_domains)))"
   ]
  },
  {
   "cell_type": "code",
   "execution_count": 52,
   "id": "bf0d920a",
   "metadata": {},
   "outputs": [
    {
     "data": {
      "text/plain": [
       "29"
      ]
     },
     "execution_count": 52,
     "metadata": {},
     "output_type": "execute_result"
    }
   ],
   "source": [
    "len(set(lrmi_p_exists_domains).difference(set(education_p_exists_domains)))"
   ]
  },
  {
   "cell_type": "code",
   "execution_count": 17,
   "id": "8d52f94d",
   "metadata": {},
   "outputs": [
    {
     "name": "stderr",
     "output_type": "stream",
     "text": [
      "  0%|                                         | 0/22 [00:00<?, ?it/s]\n"
     ]
    },
    {
     "ename": "AttributeError",
     "evalue": "'HDBSCAN' object has no attribute 'partial_fit'",
     "output_type": "error",
     "traceback": [
      "\u001b[0;31m---------------------------------------------------------------------------\u001b[0m",
      "\u001b[0;31mAttributeError\u001b[0m                            Traceback (most recent call last)",
      "Cell \u001b[0;32mIn[17], line 18\u001b[0m\n\u001b[1;32m     16\u001b[0m \u001b[38;5;28;01mfor\u001b[39;00m i \u001b[38;5;129;01min\u001b[39;00m tqdm(\u001b[38;5;28mlist\u001b[39m(\u001b[38;5;28mrange\u001b[39m(\u001b[38;5;241m0\u001b[39m, data\u001b[38;5;241m.\u001b[39mshape[\u001b[38;5;241m0\u001b[39m], chunk_size))):\n\u001b[1;32m     17\u001b[0m     chunk_data \u001b[38;5;241m=\u001b[39m data[i:i\u001b[38;5;241m+\u001b[39mchunk_size]\n\u001b[0;32m---> 18\u001b[0m     \u001b[43mclusterer\u001b[49m\u001b[38;5;241;43m.\u001b[39;49m\u001b[43mpartial_fit\u001b[49m(chunk_data)\n\u001b[1;32m     20\u001b[0m \u001b[38;5;66;03m# Get the predicted cluster labels for the data points\u001b[39;00m\n\u001b[1;32m     21\u001b[0m labels \u001b[38;5;241m=\u001b[39m clusterer\u001b[38;5;241m.\u001b[39mlabels_\n",
      "\u001b[0;31mAttributeError\u001b[0m: 'HDBSCAN' object has no attribute 'partial_fit'"
     ]
    }
   ],
   "source": [
    "import hdbscan\n",
    "import numpy as np\n",
    "from tqdm import tqdm\n",
    "\n",
    "# Load your binary data matrix, assumed to be named 'data'\n",
    "data = df.values\n",
    "\n",
    "# Specify the number of clusters you want to generate\n",
    "n_clusters = 8\n",
    "\n",
    "# Create a clustering object with the desired parameters\n",
    "clusterer = hdbscan.HDBSCAN(min_cluster_size=n_clusters, gen_min_span_tree=True)\n",
    "\n",
    "# Process the data matrix in chunks and fit the clustering algorithm\n",
    "chunk_size = 10000\n",
    "for i in tqdm(list(range(0, data.shape[0], chunk_size))):\n",
    "    chunk_data = data[i:i+chunk_size]\n",
    "    clusterer.partial_fit(chunk_data)\n",
    "\n",
    "# Get the predicted cluster labels for the data points\n",
    "labels = clusterer.labels_\n",
    "\n",
    "# Print the predicted cluster labels for the first 10 data points\n",
    "print(labels[:10])\n"
   ]
  },
  {
   "cell_type": "code",
   "execution_count": null,
   "id": "7d6c91cc",
   "metadata": {},
   "outputs": [],
   "source": [
    "kmeans.fit_predict(df)"
   ]
  },
  {
   "cell_type": "code",
   "execution_count": 5,
   "id": "be73e0b7",
   "metadata": {},
   "outputs": [
    {
     "data": {
      "text/plain": [
       "(218816, 298)"
      ]
     },
     "execution_count": 5,
     "metadata": {},
     "output_type": "execute_result"
    }
   ],
   "source": [
    "df.shape"
   ]
  },
  {
   "cell_type": "code",
   "execution_count": 4,
   "id": "1ea9a5c4",
   "metadata": {},
   "outputs": [],
   "source": [
    "for year in years:\n",
    "    with open(f'../data/p_counts_{year}.pickle', 'rb') as f:\n",
    "        df = pickle.load(f)\n",
    "    df.columns = df.columns.droplevel(0)\n",
    "    col_list = list(df.columns.intersection(set(education_ps)))\n",
    "    df = df[col_list].dropna(how='all')\n",
    "    with open(f'../data/p_counts_ed_{year}.pickle', 'wb') as f:\n",
    "        pickle.dump(df, f)\n",
    "    "
   ]
  },
  {
   "cell_type": "code",
   "execution_count": 46,
   "id": "00ed5bd3",
   "metadata": {},
   "outputs": [],
   "source": [
    "ed_df = dict()\n",
    "for year in years:\n",
    "    with open(f'../data/p_counts_ed_{year}.pickle', 'rb') as f:\n",
    "        df = pickle.load(f)\n",
    "    ed_df[year] = df"
   ]
  },
  {
   "cell_type": "code",
   "execution_count": 9,
   "id": "da4a46f8",
   "metadata": {},
   "outputs": [],
   "source": [
    "import numpy as np\n",
    "import pandas as pd\n",
    "from sklearn.decomposition import PCA\n",
    "from sklearn.cluster import KMeans\n",
    "import matplotlib.pyplot as plt\n",
    "\n",
    "def pca_plot_clusters(data, n_components=2, n_clusters=2):\n",
    "    # Standardize the data\n",
    "    data_std = (data - data.mean()) / data.std()\n",
    "\n",
    "    # Create a PCA object with the desired number of components\n",
    "    pca = PCA(n_components=n_components)\n",
    "\n",
    "    # Fit the PCA model to the data\n",
    "    pca.fit(data_std)\n",
    "\n",
    "    # Transform the data using the PCA model\n",
    "    data_pca = pca.transform(data_std)\n",
    "\n",
    "    # Cluster the transformed data using k-means clustering\n",
    "    kmeans = KMeans(n_clusters=n_clusters, random_state=0)\n",
    "    labels = kmeans.fit_predict(data_pca)\n",
    "\n",
    "    # Plot the transformed data with colors based on the cluster labels\n",
    "    fig, ax = plt.subplots()\n",
    "    scatter = ax.scatter(data_pca[:, 0], data_pca[:, 1], c=labels, cmap='rainbow')\n",
    "    ax.set_xlabel(\"PC1\")\n",
    "    ax.set_ylabel(\"PC2\")\n",
    "    ax.set_title(\"PCA Plot with Clusters\")\n",
    "\n",
    "    # Add a legend\n",
    "    handles, labels = scatter.legend_elements()\n",
    "    legend = ax.legend(handles, labels, loc=\"upper right\")\n",
    "\n",
    "    plt.show()\n"
   ]
  },
  {
   "cell_type": "code",
   "execution_count": 16,
   "id": "39d359ce",
   "metadata": {},
   "outputs": [],
   "source": [
    "import numpy as np\n",
    "import pandas as pd\n",
    "from sklearn.decomposition import PCA\n",
    "from sklearn.cluster import DBSCAN\n",
    "import matplotlib.pyplot as plt\n",
    "\n",
    "def pca_plot_clusters_dbscan(data, n_components=2, eps=0.5, min_samples=5):\n",
    "    # Standardize the data\n",
    "    data_std = (data - data.mean()) / data.std()\n",
    "\n",
    "    # Create a PCA object with the desired number of components\n",
    "    pca = PCA(n_components=n_components)\n",
    "\n",
    "    # Fit the PCA model to the data\n",
    "    pca.fit(data_std)\n",
    "\n",
    "    # Transform the data using the PCA model\n",
    "    data_pca = pca.transform(data_std)\n",
    "\n",
    "    # Cluster the transformed data using DBSCAN\n",
    "    dbscan = DBSCAN(eps=eps, min_samples=min_samples)\n",
    "    labels = dbscan.fit_predict(data_pca)\n",
    "\n",
    "    # Plot the transformed data with colors based on the cluster labels\n",
    "    fig, ax = plt.subplots()\n",
    "    scatter = ax.scatter(data_pca[:, 0], data_pca[:, 1], c=labels, cmap='rainbow')\n",
    "    ax.set_xlabel(\"PC1\")\n",
    "    ax.set\n"
   ]
  },
  {
   "cell_type": "code",
   "execution_count": 15,
   "id": "b07b7801",
   "metadata": {},
   "outputs": [
    {
     "name": "stderr",
     "output_type": "stream",
     "text": [
      "/home/rsebastian/.anaconda3/envs/lwva/lib/python3.8/site-packages/sklearn/cluster/_kmeans.py:870: FutureWarning: The default value of `n_init` will change from 10 to 'auto' in 1.4. Set the value of `n_init` explicitly to suppress the warning\n",
      "  warnings.warn(\n"
     ]
    },
    {
     "data": {
      "image/png": "[encoded data removed]",
      "text/plain": [
       "<Figure size 640x480 with 1 Axes>"
      ]
     },
     "metadata": {},
     "output_type": "display_data"
    }
   ],
   "source": [
    "pca_plot_clusters(ed_df[2019].fillna(0), n_clusters=3)"
   ]
  },
  {
   "cell_type": "code",
   "execution_count": 17,
   "id": "6c232da0",
   "metadata": {},
   "outputs": [
    {
     "data": {
      "image/png": "[encoded data removed]",
      "text/plain": [
       "<Figure size 640x480 with 1 Axes>"
      ]
     },
     "metadata": {},
     "output_type": "display_data"
    }
   ],
   "source": [
    "pca_plot_clusters_dbscan(ed_df[2019].fillna(0), eps=0.5)"
   ]
  },
  {
   "cell_type": "code",
   "execution_count": 83,
   "id": "9d657621",
   "metadata": {},
   "outputs": [],
   "source": [
    "import numpy as np\n",
    "import matplotlib.pyplot as plt\n",
    "from sklearn.decomposition import PCA\n",
    "\n",
    "def plot_multivariate_data(X, y):\n",
    "    \"\"\"\n",
    "    Plot multivariate data on a 2D scatter plot using PCA.\n",
    "    \n",
    "    Parameters:\n",
    "    X (numpy.ndarray): A matrix of shape (n_samples, n_features) containing the multivariate data.\n",
    "    y (numpy.ndarray): A vector of shape (n_samples,) containing the labels for each sample.\n",
    "    \n",
    "    Returns:\n",
    "    None\n",
    "    \n",
    "    \"\"\"\n",
    "    # Initialize PCA object\n",
    "    pca = PCA(n_components=2)\n",
    "\n",
    "    # Fit the data to PCA\n",
    "    pca.fit(X)\n",
    "\n",
    "    # Project the data onto the first two principal components\n",
    "    X_pca = pca.transform(X)\n",
    "\n",
    "    # Get unique labels\n",
    "    labels = np.unique(y)\n",
    "\n",
    "    # Plot the data for each label\n",
    "    for label in labels:\n",
    "        plt.scatter(X_pca[y == label, 0], X_pca[y == label, 1], label=label)\n",
    "\n",
    "    # Set plot title and axis labels\n",
    "    plt.title('Multivariate Data Plot using PCA')\n",
    "    plt.xlabel('Principal Component 1')\n",
    "    plt.ylabel('Principal Component 2')\n",
    "\n",
    "    # Show legend and plot\n",
    "    plt.legend(loc=\"upper left\", bbox_to_anchor=(1.05, 1))\n",
    "    plt.show()\n"
   ]
  },
  {
   "cell_type": "code",
   "execution_count": 22,
   "id": "820d615e",
   "metadata": {},
   "outputs": [],
   "source": [
    "import pandas as pd\n",
    "\n",
    "def threshold_categorical(series, threshold):\n",
    "    \"\"\"\n",
    "    Given a pandas series, returns a pandas series of the same size such that items in the series\n",
    "    that are more frequent than a certain threshold are left as is and everything else is changed\n",
    "    to the string \"other\".\n",
    "    \n",
    "    Parameters:\n",
    "    series (pandas.Series): The input series.\n",
    "    threshold (int): The frequency threshold below which items are replaced with \"other\".\n",
    "    \n",
    "    Returns:\n",
    "    pandas.Series: A new pandas series with the same size as the input series.\n",
    "    \n",
    "    \"\"\"\n",
    "    # Compute the frequency of each value in the series\n",
    "    value_counts = series.value_counts()\n",
    "\n",
    "    # Compute the mask of values that occur more frequently than the threshold\n",
    "    mask = value_counts >= threshold\n",
    "\n",
    "    # Initialize the output series with \"other\" for all values\n",
    "    output_series = pd.Series(\"other\", index=series.index)\n",
    "\n",
    "    # For values that occur more frequently than the threshold, copy them to the output series\n",
    "    for value, count in value_counts[mask].iteritems():\n",
    "        output_series[series == value] = value\n",
    "\n",
    "    return output_series\n"
   ]
  },
  {
   "cell_type": "code",
   "execution_count": 69,
   "id": "ea2cc4cb",
   "metadata": {},
   "outputs": [],
   "source": [
    "import pandas as pd\n",
    "\n",
    "def filter_by_quantile(df, column, quantile):\n",
    "    \"\"\"\n",
    "    Given a pandas dataframe, filters it based on the frequency of a given column.\n",
    "    \n",
    "    Parameters:\n",
    "    df (pandas.DataFrame): The input dataframe.\n",
    "    column (str): The name of the column to filter on.\n",
    "    threshold (int): The frequency threshold below which rows are removed.\n",
    "    \n",
    "    Returns:\n",
    "    pandas.DataFrame: A new pandas dataframe containing only the rows with values in the specified column\n",
    "    that occur more frequently than the threshold.\n",
    "    \n",
    "    \"\"\"\n",
    "    # Compute the frequency of each value in the specified column\n",
    "    value_counts = df[column].value_counts()\n",
    "\n",
    "    # Compute the mask of values that occur more frequently than the threshold\n",
    "    threshold = value_counts.quantile(quantile)\n",
    "\n",
    "    # Compute the mask of values that occur more frequently than the threshold\n",
    "    mask = value_counts >= threshold\n",
    "    # Get the values to keep\n",
    "    values_to_keep = value_counts[mask].index.tolist()\n",
    "\n",
    "    # Filter the dataframe based on the specified column\n",
    "    filtered_df = df[df[column].isin(values_to_keep)]\n",
    "\n",
    "    return filtered_df\n"
   ]
  },
  {
   "cell_type": "code",
   "execution_count": 88,
   "id": "5dec0ab2",
   "metadata": {},
   "outputs": [],
   "source": [
    "year = 2019\n",
    "ed_df[year]['pld'] = ed_df[year].index.str.extract('^.*:\\/\\/(.*?)\\/.*$')[0].values\n",
    "\n",
    "filtered_df = filter_by_quantile(ed_df[year], 'pld', 0.2)\n",
    "# plot_multivariate_data(filtered_df.drop(columns=['pld']).fillna(0), filtered_df.pld)"
   ]
  },
  {
   "cell_type": "code",
   "execution_count": 89,
   "id": "29595bbf",
   "metadata": {},
   "outputs": [
    {
     "name": "stdout",
     "output_type": "stream",
     "text": [
      "allmetalsrl.com ['educationalUse', 'interactivityType']\n",
      "codegalaxy.io ['learningResourceType']\n",
      "commons.esipfed.org ['educationalUse', 'interactivityType', 'learningResourceType']\n",
      "explainme.co ['learningResourceType']\n",
      "kapush.org ['educationalUse', 'learningResourceType']\n",
      "knoesis.org ['learningResourceType']\n",
      "knoesis.wright.edu ['learningResourceType']\n",
      "primeexpert24.com ['educationalUse', 'interactivityType']\n",
      "uk.codegalaxy.io ['learningResourceType']\n",
      "unrwa-stg.dev-site.online ['learningResourceType']\n",
      "www.knoesis.org ['learningResourceType']\n",
      "aldolafontana.be ['interactivityType']\n",
      "aporiasas.fr ['interactivityType']\n",
      "association-maison-familiale.com ['interactivityType']\n",
      "atmosfaire.fr ['interactivityType']\n",
      "az-box.fr ['interactivityType']\n",
      "cloudxlab.com ['courseCode', 'hasCourseInstance']\n",
      "dis-confort.fr ['interactivityType']\n",
      "ekloges-apotelesmata.eu ['interactivityType']\n",
      "eleicoes-resultados.eu ['interactivityType']\n",
      "fac-logistique.com ['interactivityType']\n",
      "face-on-putting.com ['interactivityType']\n",
      "fitch-bike.com ['interactivityType']\n",
      "foreachcode.com ['interactivityType']\n",
      "inkadus.com ['interactivityType']\n",
      "izborni-rezultati.eu ['interactivityType']\n",
      "learn.saylor.org ['courseCode', 'educationalCredentialAwarded']\n",
      "normandyvtcservices.fr ['interactivityType']\n",
      "planiz.com ['interactivityType']\n",
      "prod-edx-mktg-edit.edx.org ['courseCode', 'coursePrerequisite', 'educationalOutcome', 'hasCourseInstance', 'subjectOfStudy']\n",
      "resultats-elections.eu ['interactivityType']\n",
      "rezultate-alegeri.eu ['interactivityType']\n",
      "rezultati-izbori.eu ['interactivityType']\n",
      "rezultati-volitve.eu ['interactivityType']\n",
      "rgsport-flocage.com ['interactivityType']\n",
      "rinkimu-rezultatai.eu ['interactivityType']\n",
      "risultati-elezioni.eu ['interactivityType']\n",
      "rizultati-elezzjonijiet.eu ['interactivityType']\n",
      "robot-assur.com ['interactivityType']\n",
      "studylib.es ['learningResourceType']\n",
      "studylib.net ['learningResourceType']\n",
      "studylib.ru ['learningResourceType']\n",
      "studylibde.com ['learningResourceType']\n",
      "studylibfr.com ['learningResourceType']\n",
      "studylibid.com ['learningResourceType']\n",
      "studylibit.com ['learningResourceType']\n",
      "studylibnl.com ['learningResourceType']\n",
      "studylibpl.com ['learningResourceType']\n",
      "studylibpt.com ['learningResourceType']\n",
      "studylibsv.com ['learningResourceType']\n",
      "studylibtr.com ['learningResourceType']\n",
      "torthai-toghchan.eu ['interactivityType']\n",
      "valimistulemused.eu ['interactivityType']\n",
      "valsztasi-eredmenyek.eu ['interactivityType']\n",
      "verkiezingen-resultaten.eu ['interactivityType']\n",
      "vydec-cctv.com ['interactivityType']\n",
      "vysledky-volby.eu ['interactivityType']\n",
      "vysledky-voleb.eu ['interactivityType']\n",
      "www.criticalthinkingforsuccess.com ['interactivityType', 'learningResourceType']\n",
      "www.diziler.com ['interactivityType']\n",
      "www.edx.org ['courseCode', 'coursePrerequisite', 'educationalCredentialAwarded', 'educationalOutcome', 'hasCourseInstance', 'subjectOfStudy']\n",
      "www.ekloges-apotelesmata.eu ['interactivityType']\n",
      "www.europawahlergebnis.eu ['interactivityType']\n",
      "www.extension.harvard.edu ['educationalOutcome', 'subjectOfStudy']\n",
      "www.fisicalab.com ['educationalUse', 'interactivityType', 'learningResourceType']\n",
      "www.foodisglorious.co.uk ['learningResourceType']\n",
      "www.marketmotive.com ['courseCode', 'hasCourseInstance']\n",
      "www.rezultate-alegeri.eu ['interactivityType']\n",
      "www.unrwa.org ['learningResourceType']\n",
      "www.velesanurezultati.eu ['interactivityType']\n",
      "www.verboeducacional.com.br ['educationalCredentialAwarded', 'hasCourseInstance']\n",
      "www.wikidata.org ['alignmentType', 'educationalFramework']\n",
      "wyniki-wybory.eu ['interactivityType']\n"
     ]
    }
   ],
   "source": [
    "for i in filtered_df.pld.unique():\n",
    "    cols = ed_df[year][ed_df[year].pld == i].dropna(axis=1, how='all').columns.values\n",
    "    cols = [c.split('/')[-1] for c in cols if c!='pld']\n",
    "    print(i, cols)"
   ]
  },
  {
   "cell_type": "code",
   "execution_count": 65,
   "id": "29a16d1a",
   "metadata": {},
   "outputs": [
    {
     "data": {
      "text/plain": [
       "s\n",
       "http://allmetalsrl.com/apartado/celeridad                                                                                                                              allmetalsrl.com\n",
       "http://codegalaxy.io/courses/cplusplus/questions/00e8d7693fc248eb93bd1643ea7d36cf/select-all-the-correct-ways-to-declare-the-local-constant-in-the-code-block            codegalaxy.io\n",
       "http://codegalaxy.io/courses/cplusplus/questions/018efba65ef64f47ba456b5c50ba34b0/kakoj-iz-perechislennyh-tipov-dannyh-ne-yavlyaetsya-fundamental-nym                    codegalaxy.io\n",
       "http://codegalaxy.io/courses/cplusplus/questions/019aeb8566bd4bd59da9384767b93272/will-the-following-code-compile-class-clazz                                            codegalaxy.io\n",
       "http://codegalaxy.io/courses/cplusplus/questions/01d7536a360e4cb9935294cc2119b832/chto-vyvedet-sleduyushchij-kod-include-lt-iostream-gt-void-print-int-a-std-cout-       codegalaxy.io\n",
       "                                                                                                                                                                            ...       \n",
       "https://wyniki-wybory.eu/slowenia/#aboutpage                                                                                                                          wyniki-wybory.eu\n",
       "https://wyniki-wybory.eu/szwecja/#aboutpage                                                                                                                           wyniki-wybory.eu\n",
       "https://wyniki-wybory.eu/wegry/#aboutpage                                                                                                                             wyniki-wybory.eu\n",
       "https://wyniki-wybory.eu/wielka-brytania/#aboutpage                                                                                                                   wyniki-wybory.eu\n",
       "https://wyniki-wybory.eu/wlochy/#aboutpage                                                                                                                            wyniki-wybory.eu\n",
       "Name: pld, Length: 7156, dtype: object"
      ]
     },
     "execution_count": 65,
     "metadata": {},
     "output_type": "execute_result"
    }
   ],
   "source": [
    "ed_df[year]['pld']"
   ]
  },
  {
   "cell_type": "code",
   "execution_count": null,
   "id": "ac42c7a6",
   "metadata": {},
   "outputs": [],
   "source": []
  }
 ],
 "metadata": {
  "kernelspec": {
   "display_name": "Python 3 (ipykernel)",
   "language": "python",
   "name": "python3"
  },
  "language_info": {
   "codemirror_mode": {
    "name": "ipython",
    "version": 3
   },
   "file_extension": ".py",
   "mimetype": "text/x-python",
   "name": "python",
   "nbconvert_exporter": "python",
   "pygments_lexer": "ipython3",
   "version": "3.8.16"
  }
 },
 "nbformat": 4,
 "nbformat_minor": 5
}
